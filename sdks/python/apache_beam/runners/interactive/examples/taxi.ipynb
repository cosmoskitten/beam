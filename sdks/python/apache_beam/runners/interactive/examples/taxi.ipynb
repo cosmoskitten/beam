{
 "cells": [
  {
   "cell_type": "code",
   "execution_count": null,
   "metadata": {},
   "outputs": [],
   "source": [
    "### Create test topic ###\n",
    "# gcloud config set project ningk-test-project\n",
    "# gcloud alpha pubsub subscriptions create test --topic projects/pubsub-public-data/topics/taxirides-realtime\n",
    "# gcloud alpha pubsub subscriptions pull projects/ningk-test-project/subscriptions/test\n",
    "# gcloud alpha pubsub subscriptions delete projects/ningk-test-project/subscriptions/test\n",
    "\n",
    "import apache_beam as beam\n",
    "import apache_beam.transforms.window as window\n",
    "from apache_beam.runners.interactive import interactive_runner\n",
    "from apache_beam.options.pipeline_options import PipelineOptions\n",
    "from apache_beam.options.pipeline_options import StandardOptions\n",
    "\n",
    "pipeline_options = PipelineOptions()\n",
    "pipeline_options.view_as(StandardOptions).streaming = True\n",
    "p = beam.Pipeline(interactive_runner.InteractiveRunner(),\n",
    "                  options=pipeline_options)\n",
    "\n",
    "messages = p | \"Read\" >> beam.io.ReadFromPubSub(subscription='projects/ningk-test-project/subscriptions/test')"
   ]
  },
  {
   "cell_type": "code",
   "execution_count": null,
   "metadata": {},
   "outputs": [],
   "source": [
    "p.run()"
   ]
  },
  {
   "cell_type": "code",
   "execution_count": null,
   "metadata": {},
   "outputs": [],
   "source": []
  }
 ],
 "metadata": {
  "kernelspec": {
   "display_name": "Py3 (beam_p3_venv)",
   "language": "python",
   "name": "beam_venv_kernel"
  },
  "language_info": {
   "codemirror_mode": {
    "name": "ipython",
    "version": 3
   },
   "file_extension": ".py",
   "mimetype": "text/x-python",
   "name": "python",
   "nbconvert_exporter": "python",
   "pygments_lexer": "ipython3",
   "version": "3.6.7"
  }
 },
 "nbformat": 4,
 "nbformat_minor": 4
}
