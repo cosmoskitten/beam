{
 "cells": [
  {
   "cell_type": "markdown",
   "metadata": {},
   "source": [
    "#### a starter example for dataflow"
   ]
  },
  {
   "cell_type": "code",
   "execution_count": 4,
   "metadata": {
    "collapsed": false
   },
   "outputs": [
    {
     "name": "stdout",
     "output_type": "stream",
     "text": [
      "Ann\r\n",
      "Joe\r\n"
     ]
    }
   ],
   "source": [
    "# Standard imports\n",
    "import apache_beam as beam\n",
    "\n",
    "# Create a pipeline executing on a direct runner (local, non-cloud).\n",
    "p = beam.Pipeline('DirectPipelineRunner')\n",
    "# Create a PCollection with names and write it to a file.\n",
    "(p\n",
    " | beam.Create('add names', ['Ann', 'Joe'])\n",
    " | beam.Write('save', beam.io.TextFileSink('./names')))\n",
    "# Execute the pipeline.\n",
    "p.run()\n",
    "!cat names-00000-of-00001"
   ]
  },
  {
   "cell_type": "code",
   "execution_count": 3,
   "metadata": {
    "collapsed": false
   },
   "outputs": [
    {
     "name": "stdout",
     "output_type": "stream",
     "text": [
      "names-00000-of-00001\r\n"
     ]
    }
   ],
   "source": [
    "!ls name*"
   ]
  },
  {
   "cell_type": "code",
   "execution_count": 4,
   "metadata": {
    "collapsed": false
   },
   "outputs": [
    {
     "name": "stdout",
     "output_type": "stream",
     "text": [
      "Ann\r\n",
      "Joe\r\n"
     ]
    }
   ],
   "source": [
    "!cat names-00000-of-00001"
   ]
  },
  {
   "cell_type": "markdown",
   "metadata": {},
   "source": [
    "##### another way to write the same thing"
   ]
  },
  {
   "cell_type": "markdown",
   "metadata": {},
   "source": [
    "before each pipeline definition, a new beam.Pipeline instance has to be created"
   ]
  },
  {
   "cell_type": "code",
   "execution_count": 29,
   "metadata": {
    "collapsed": false
   },
   "outputs": [
    {
     "name": "stdout",
     "output_type": "stream",
     "text": [
      "Ann\r\n",
      "Joe\r\n"
     ]
    }
   ],
   "source": [
    "p = beam.Pipeline('DirectPipelineRunner')\n",
    "(p\n",
    " | 'add nuhguyguygouames' >> beam.Create(['Ann', 'Joe'])\n",
    " | 'save' >> beam.Write(beam.io.TextFileSink('./names')))\n",
    "# Execute the pipeline.\n",
    "p.run()\n",
    "!cat names-00000-of-00001"
   ]
  },
  {
   "cell_type": "markdown",
   "metadata": {},
   "source": [
    "play with Map"
   ]
  },
  {
   "cell_type": "code",
   "execution_count": 22,
   "metadata": {
    "collapsed": false
   },
   "outputs": [
    {
     "name": "stdout",
     "output_type": "stream",
     "text": [
      "('Ann', ['a', 'n', 'n'])\r\n",
      "('Joe', ['e', 'j', 'o'])\r\n"
     ]
    }
   ],
   "source": [
    "p = beam.Pipeline('DirectPipelineRunner')\n",
    "(p\n",
    " | 'add names' >> beam.Create(['Ann', 'Joe'])\n",
    " | 'try map' >> beam.Map(lambda x: (x, sorted(x.lower())))\n",
    " | 'save' >> beam.Write(beam.io.TextFileSink('./names')))\n",
    "# Execute the pipeline.\n",
    "p.run()\n",
    "!cat names-00000-of-00001"
   ]
  },
  {
   "cell_type": "code",
   "execution_count": null,
   "metadata": {
    "collapsed": true
   },
   "outputs": [],
   "source": []
  },
  {
   "cell_type": "markdown",
   "metadata": {},
   "source": [
    "#### Map example"
   ]
  },
  {
   "cell_type": "markdown",
   "metadata": {},
   "source": [
    "pay attention that the lambda can take multiple params, only the first is the element from the collection"
   ]
  },
  {
   "cell_type": "code",
   "execution_count": 33,
   "metadata": {
    "collapsed": false
   },
   "outputs": [
    {
     "name": "stdout",
     "output_type": "stream",
     "text": [
      "Hello Ann lala!\r\n",
      "Hello Joe lala!\r\n"
     ]
    }
   ],
   "source": [
    "p = beam.Pipeline('DirectPipelineRunner')\n",
    "# Read file with names, add a greeting for each, and write results.\n",
    "(p\n",
    " | beam.Read('load messages', beam.io.TextFileSource('./names-00000-of-00001'))\n",
    " | beam.Map('add greeting',\n",
    "          lambda name, msg, details: '%s %s %s!' % (msg, name, details),\n",
    "          'Hello', 'lala')   \n",
    " | beam.Write('save', beam.io.TextFileSink('./greetings')))\n",
    "p.run()\n",
    "!cat greetings-00000-of-00001"
   ]
  },
  {
   "cell_type": "code",
   "execution_count": null,
   "metadata": {
    "collapsed": true
   },
   "outputs": [],
   "source": []
  },
  {
   "cell_type": "markdown",
   "metadata": {},
   "source": [
    "#### FlatMap example"
   ]
  },
  {
   "cell_type": "code",
   "execution_count": 35,
   "metadata": {
    "collapsed": false
   },
   "outputs": [
    {
     "name": "stdout",
     "output_type": "stream",
     "text": [
      "Hello Ann!\r\n",
      "Hola Ann!\r\n",
      "Hello Joe!\r\n",
      "Hola Joe!\r\n"
     ]
    }
   ],
   "source": [
    "p = beam.Pipeline('DirectPipelineRunner')\n",
    "# Read previous file, add a name to each greeting and write results.\n",
    "(p\n",
    " | beam.Read('load messages', beam.io.TextFileSource('./names-00000-of-00001'))\n",
    " | beam.FlatMap('add greetings',\n",
    "              lambda name, msgs: ['%s %s!' % (m, name) for m in msgs],\n",
    "              ['Hello', 'Hola'])\n",
    " | beam.Write('save', beam.io.TextFileSink('./greetings')))\n",
    "p.run()\n",
    "!cat greetings-00000-of-00001"
   ]
  },
  {
   "cell_type": "markdown",
   "metadata": {},
   "source": [
    "##### what if we just use regular Map"
   ]
  },
  {
   "cell_type": "code",
   "execution_count": 36,
   "metadata": {
    "collapsed": false
   },
   "outputs": [
    {
     "name": "stdout",
     "output_type": "stream",
     "text": [
      "[u'Hello Ann!', u'Hola Ann!']\r\n",
      "[u'Hello Joe!', u'Hola Joe!']\r\n"
     ]
    }
   ],
   "source": [
    "p = beam.Pipeline('DirectPipelineRunner')\n",
    "# Read previous file, add a name to each greeting and write results.\n",
    "(p\n",
    " | beam.Read('load messages', beam.io.TextFileSource('./names-00000-of-00001'))\n",
    " | beam.Map('add greetings',\n",
    "              lambda name, msgs: ['%s %s!' % (m, name) for m in msgs],\n",
    "              ['Hello', 'Hola'])\n",
    " | beam.Write('save', beam.io.TextFileSink('./greetings')))\n",
    "p.run()\n",
    "!cat greetings-00000-of-00001"
   ]
  },
  {
   "cell_type": "code",
   "execution_count": null,
   "metadata": {
    "collapsed": true
   },
   "outputs": [],
   "source": []
  }
 ],
 "metadata": {
  "kernelspec": {
   "display_name": "Python 2",
   "language": "python",
   "name": "python2"
  },
  "language_info": {
   "codemirror_mode": {
    "name": "ipython",
    "version": 2
   },
   "file_extension": ".py",
   "mimetype": "text/x-python",
   "name": "python",
   "nbconvert_exporter": "python",
   "pygments_lexer": "ipython2",
   "version": "2.7.12"
  }
 },
 "nbformat": 4,
 "nbformat_minor": 0
}
