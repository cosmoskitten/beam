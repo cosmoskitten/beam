{
 "cells": [
  {
   "cell_type": "code",
   "execution_count": 1,
   "metadata": {
    "collapsed": false
   },
   "outputs": [
    {
     "name": "stdout",
     "output_type": "stream",
     "text": [
      "hello\n"
     ]
    }
   ],
   "source": [
    "print 'hello'"
   ]
  },
  {
   "cell_type": "markdown",
   "metadata": {},
   "source": [
    "#### an old example copied from dataflow repo"
   ]
  },
  {
   "cell_type": "code",
   "execution_count": 23,
   "metadata": {
    "collapsed": false
   },
   "outputs": [
    {
     "data": {
      "text/plain": [
       "<apache_beam.runners.direct_runner.DirectPipelineResult at 0x10a6a6510>"
      ]
     },
     "execution_count": 23,
     "metadata": {},
     "output_type": "execute_result"
    }
   ],
   "source": [
    "# Standard imports\n",
    "import apache_beam as beam\n",
    "# Create a pipeline executing on a direct runner (local, non-cloud).\n",
    "p = beam.Pipeline('DirectPipelineRunner')\n",
    "# Create a PCollection with names and write it to a file.\n",
    "(p\n",
    " | beam.Create('add names', ['Ann', 'Joe'])\n",
    " | beam.Write('save', beam.io.TextFileSink('./names')))\n",
    "# Execute the pipeline.\n",
    "p.run()"
   ]
  },
  {
   "cell_type": "code",
   "execution_count": 18,
   "metadata": {
    "collapsed": false
   },
   "outputs": [
    {
     "name": "stdout",
     "output_type": "stream",
     "text": [
      "LICENSE                  \u001b[34mapache_beam_sdk.egg-info\u001b[m\u001b[m \u001b[31mrun_pylint.sh\u001b[m\u001b[m\r\n",
      "README.md                names-00000-of-00001     setup.cfg\r\n",
      "Untitled.ipynb           names2-00000-of-00001    setup.py\r\n",
      "\u001b[34mapache_beam\u001b[m\u001b[m              \u001b[31mrun_postcommit.sh\u001b[m\u001b[m        tox.ini\r\n"
     ]
    }
   ],
   "source": [
    "!ls"
   ]
  },
  {
   "cell_type": "code",
   "execution_count": 5,
   "metadata": {
    "collapsed": false
   },
   "outputs": [
    {
     "name": "stdout",
     "output_type": "stream",
     "text": [
      "Ann\r\n",
      "Joe\r\n"
     ]
    }
   ],
   "source": [
    "!cat names-00000-of-00001"
   ]
  },
  {
   "cell_type": "markdown",
   "metadata": {},
   "source": []
  },
  {
   "cell_type": "markdown",
   "metadata": {},
   "source": [
    "#### the new way to define the pipeline "
   ]
  },
  {
   "cell_type": "code",
   "execution_count": 22,
   "metadata": {
    "collapsed": false
   },
   "outputs": [
    {
     "data": {
      "text/plain": [
       "<apache_beam.runners.direct_runner.DirectPipelineResult at 0x10a6dab50>"
      ]
     },
     "execution_count": 22,
     "metadata": {},
     "output_type": "execute_result"
    }
   ],
   "source": [
    "# Standard imports\n",
    "import apache_beam as beam\n",
    "# Create a pipeline executing on a direct runner (local, non-cloud).\n",
    "p = beam.Pipeline('DirectPipelineRunner')\n",
    "# Create a PCollection with names and write it to a file.\n",
    "# (p\n",
    "#  | beam.Create('add names', ['Ann', 'Joe'])\n",
    "#  | beam.Write('save', beam.io.TextFileSink('./names')))\n",
    "\n",
    "(p\n",
    " | 'add names' >> beam.Create(['foo', 'bar'])\n",
    " | 'save' >> beam.io.Write(beam.io.TextFileSink('./names2')))\n",
    "# Execute the pipeline.\n",
    "p.run()"
   ]
  },
  {
   "cell_type": "code",
   "execution_count": null,
   "metadata": {
    "collapsed": true
   },
   "outputs": [],
   "source": []
  },
  {
   "cell_type": "code",
   "execution_count": null,
   "metadata": {
    "collapsed": true
   },
   "outputs": [],
   "source": []
  },
  {
   "cell_type": "code",
   "execution_count": null,
   "metadata": {
    "collapsed": true
   },
   "outputs": [],
   "source": []
  }
 ],
 "metadata": {
  "kernelspec": {
   "display_name": "Python 2",
   "language": "python",
   "name": "python2"
  },
  "language_info": {
   "codemirror_mode": {
    "name": "ipython",
    "version": 2
   },
   "file_extension": ".py",
   "mimetype": "text/x-python",
   "name": "python",
   "nbconvert_exporter": "python",
   "pygments_lexer": "ipython2",
   "version": "2.7.12"
  }
 },
 "nbformat": 4,
 "nbformat_minor": 1
}
