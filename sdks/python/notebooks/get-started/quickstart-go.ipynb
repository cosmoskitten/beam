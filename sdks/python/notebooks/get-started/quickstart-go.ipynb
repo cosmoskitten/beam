{
  "nbformat": 4,
  "nbformat_minor": 0,
  "metadata": {
    "colab": {
      "name": "Quickstart - Apache Beam - Go",
      "version": "0.3.2",
      "provenance": [],
      "collapsed_sections": [],
      "toc_visible": true
    },
    "kernelspec": {
      "name": "python3",
      "display_name": "Python 3"
    }
  },
  "cells": [
    {
      "metadata": {
        "id": "lNKIMlEDZ_Vw",
        "colab_type": "text"
      },
      "cell_type": "markdown",
      "source": [
        "# Quickstart - Apache Beam - Go\n",
        "\n",
        "In this Quickstart, we set up your development environment and work through a simple example using the [DirectRunner](https://beam.apache.org/documentation/runners/direct/). You can explore other runners with the [Beam Capatibility Matrix](https://beam.apache.org/documentation/runners/capability-matrix/).\n",
        "\n",
        "To navigate through different sections, use the table of contents. From **View**  drop-down list, select **Table of contents**. If you have feedback, select a cell and click the **Comment** button in the top-right corner. To learn more about Colab, see [Welcome to Colaboratory!](https://colab.sandbox.google.com/notebooks/welcome.ipynb).\n",
        "\n",
        "To run a code cell, you can click the **Run cell** button at the top left of the cell, or by select it and press **`Shift+Enter`**. Try modifying a code cell and re-running it to see what happens."
      ]
    },
    {
      "metadata": {
        "id": "Fz6KSQ13_3Rr",
        "colab_type": "text"
      },
      "cell_type": "markdown",
      "source": [
        "# Setup\n",
        "\n",
        "First, you need to set up your environment."
      ]
    },
    {
      "metadata": {
        "id": "GOOk81Jj_yUy",
        "colab_type": "code",
        "outputId": "aa018f2f-5eeb-4ac8-e6f7-c3534911fb83",
        "colab": {
          "base_uri": "https://localhost:8080/",
          "height": 170
        }
      },
      "cell_type": "code",
      "source": [
        "import os\n",
        "\n",
        "# Run and print a shell command.\n",
        "def run(cmd):\n",
        "  print('>> {}'.format(cmd))\n",
        "  !{cmd}\n",
        "  print('')\n",
        "\n",
        "# Change directory to $HOME.\n",
        "print(f\"Changing directory to $HOME: {os.environ['HOME']}\\n\")\n",
        "os.chdir(os.environ['HOME'])\n",
        "\n",
        "# Copy the input file into the local filesystem.\n",
        "run('mkdir -p data')\n",
        "run('gsutil cp gs://dataflow-samples/shakespeare/kinglear.txt data/')"
      ],
      "execution_count": 1,
      "outputs": [
        {
          "output_type": "stream",
          "text": [
            "Changing directory to $HOME: /root\n",
            "\n",
            ">> mkdir -p data\n",
            "\n",
            ">> gsutil cp gs://dataflow-samples/shakespeare/kinglear.txt data/\n",
            "Copying gs://dataflow-samples/shakespeare/kinglear.txt...\n",
            "/ [1 files][153.6 KiB/153.6 KiB]                                                \n",
            "Operation completed over 1 objects/153.6 KiB.                                    \n",
            "\n"
          ],
          "name": "stdout"
        }
      ]
    },
    {
      "metadata": {
        "id": "bgSegMTHlSqb",
        "colab_type": "text"
      },
      "cell_type": "markdown",
      "source": [
        "## Installing development tools\n",
        "\n",
        "Let's start by installing Go. This will take a while, so feel free to go for a walk or do some stretching."
      ]
    },
    {
      "metadata": {
        "id": "ibHfVnpolP3b",
        "colab_type": "code",
        "colab": {
          "base_uri": "https://localhost:8080/",
          "height": 187
        },
        "outputId": "4bfd9fa3-6ad8-4f18-a970-9db651c8fed8"
      },
      "cell_type": "code",
      "source": [
        "# Update and upgrade the system before installing anything else.\n",
        "run('(apt-get update && apt-get upgrade) > /dev/null')\n",
        "\n",
        "# Install the Go package.\n",
        "run('apt-get install golang-go > /dev/null')\n",
        "\n",
        "# Check the Go version to see if everything is working well.\n",
        "run('go version')\n",
        "\n",
        "# Finally, let's install the Apache Beam SDK for Go.\n",
        "run('go get -u github.com/apache/beam/sdks/go/...')"
      ],
      "execution_count": 2,
      "outputs": [
        {
          "output_type": "stream",
          "text": [
            ">> (apt-get update && apt-get upgrade) > /dev/null\n",
            "Extracting templates from packages: 100%\n",
            "\n",
            ">> apt-get install golang-go > /dev/null\n",
            "\n",
            ">> go version\n",
            "go version go1.10.4 linux/amd64\n",
            "\n",
            ">> go get -u github.com/apache/beam/sdks/go/...\n",
            "\n"
          ],
          "name": "stdout"
        }
      ]
    },
    {
      "metadata": {
        "id": "ungfz1aFqYnn",
        "colab_type": "text"
      },
      "cell_type": "markdown",
      "source": [
        "## Creating the directory structure\n",
        "\n",
        "Go requires all packages to be contained within the `GOPATH`. By default it is located in `$HOME/go`, you can check yours using the `go env GOPATH` command.\n",
        "\n",
        "Inside the `GOPATH` there should be a `src` directory that holds up all the packages, and a `bin` directory will be created containing all the compiled binaries.\n",
        "\n",
        "To learn more about Go's directory structure, see [How to Write Go Code](https://golang.org/doc/code.html)."
      ]
    },
    {
      "metadata": {
        "id": "yU3F1Snrt6Nv",
        "colab_type": "code",
        "colab": {
          "base_uri": "https://localhost:8080/",
          "height": 85
        },
        "outputId": "48725504-bef7-4d5a-d9eb-4684643baaea"
      },
      "cell_type": "code",
      "source": [
        "# Get the GOPATH.\n",
        "cmd_stdout = !go env GOPATH\n",
        "GOPATH = cmd_stdout[0]\n",
        "print(f\"GOPATH={GOPATH}\\n\")\n",
        "\n",
        "# Create our source code wordcount package.\n",
        "run(f\"mkdir -p {GOPATH}/src/wordcount\")"
      ],
      "execution_count": 3,
      "outputs": [
        {
          "output_type": "stream",
          "text": [
            "GOPATH=/root/go\n",
            "\n",
            ">> mkdir -p /root/go/src/wordcount\n",
            "\n"
          ],
          "name": "stdout"
        }
      ]
    },
    {
      "metadata": {
        "id": "cPvvFB19uXNw",
        "colab_type": "text"
      },
      "cell_type": "markdown",
      "source": [
        "# Minimal word count\n",
        "\n",
        "The following example is the \"Hello, World!\" of data processing, a basic implementation of word count. We're creating a simple data processing pipeline that reads a text file and counts the number of occurrences of every word.\n",
        "\n",
        "There are many scenarios where all the data does not fit in memory. Notice that the outputs of the pipeline go to the file system, which allows for large processing jobs in distributed environments."
      ]
    },
    {
      "metadata": {
        "id": "3MUaWD4Dm5NB",
        "colab_type": "text"
      },
      "cell_type": "markdown",
      "source": [
        "## wordcount.go"
      ]
    },
    {
      "metadata": {
        "id": "oUqfqWyMuIfR",
        "colab_type": "code",
        "outputId": "97e1f5c8-95b1-42dd-e1ba-f3a408dd3a03",
        "colab": {
          "base_uri": "https://localhost:8080/",
          "height": 34
        }
      },
      "cell_type": "code",
      "source": [
        "%%writefile go/src/wordcount/wordcount.go\n",
        "\n",
        "package main\n",
        "\n",
        "import (\n",
        "\t\"context\"\n",
        " \t\"flag\"\n",
        "\t\"fmt\"\n",
        "\t\"regexp\"\n",
        "\n",
        "\t\"github.com/apache/beam/sdks/go/pkg/beam\"\n",
        "\t\"github.com/apache/beam/sdks/go/pkg/beam/io/textio\"\n",
        "\t\"github.com/apache/beam/sdks/go/pkg/beam/runners/direct\"\n",
        "\t\"github.com/apache/beam/sdks/go/pkg/beam/transforms/stats\"\n",
        "\n",
        "\t_ \"github.com/apache/beam/sdks/go/pkg/beam/io/filesystem/local\"\n",
        ")\n",
        "\n",
        "var (\n",
        "\tinput = flag.String(\"input\", \"data/*\", \"File(s) to read.\")\n",
        "\toutput = flag.String(\"output\", \"outputs/wordcounts.txt\", \"Output filename.\")\n",
        ")\n",
        "\n",
        "var wordRE = regexp.MustCompile(`[a-zA-Z]+('[a-z])?`)\n",
        "\n",
        "func main() {\n",
        "  flag.Parse()\n",
        "\n",
        "\tbeam.Init()\n",
        "\n",
        "\tpipeline := beam.NewPipeline()\n",
        "\troot := pipeline.Root()\n",
        "\n",
        "\tlines := textio.Read(root, *input)\n",
        "\twords := beam.ParDo(root, func(line string, emit func(string)) {\n",
        "\t\tfor _, word := range wordRE.FindAllString(line, -1) {\n",
        "\t\t\temit(word)\n",
        "\t\t}\n",
        "\t}, lines)\n",
        "\tcounted := stats.Count(root, words)\n",
        "\tformatted := beam.ParDo(root, func(word string, count int) string {\n",
        "\t\treturn fmt.Sprintf(\"%s: %v\", word, count)\n",
        "\t}, counted)\n",
        "\ttextio.Write(root, *output, formatted)\n",
        "\n",
        "\tdirect.Execute(context.Background(), pipeline)\n",
        "}"
      ],
      "execution_count": 4,
      "outputs": [
        {
          "output_type": "stream",
          "text": [
            "Writing go/src/wordcount/wordcount.go\n"
          ],
          "name": "stdout"
        }
      ]
    },
    {
      "metadata": {
        "id": "to3rfuOhq0i3",
        "colab_type": "text"
      },
      "cell_type": "markdown",
      "source": [
        "## Building and running\n",
        "\n",
        "Go allows us to run a program without having to explicitly compile it. Internally it will compile the source code into a binary and then run it."
      ]
    },
    {
      "metadata": {
        "id": "0FbGD-rpocgx",
        "colab_type": "code",
        "colab": {
          "base_uri": "https://localhost:8080/",
          "height": 1193
        },
        "outputId": "b30c63de-9d73-468b-cccb-8456aa37fcda"
      },
      "cell_type": "code",
      "source": [
        "# Build and run the program.\n",
        "run('go run go/src/wordcount/*.go')\n",
        "\n",
        "# Sample the first 20 results, remember there are no ordering guarantees.\n",
        "run('head -n 20 outputs/*')"
      ],
      "execution_count": 5,
      "outputs": [
        {
          "output_type": "stream",
          "text": [
            ">> go run go/src/wordcount/*.go\n",
            "2019/01/30 22:44:54 Func for func(reflect.Type, []uint8) (typex.T, error) already registered. Overwriting.\n",
            "2019/01/30 22:44:54 EXTRACTING StructWrapper for beam.createFn\n",
            "2019/01/30 22:44:54 Executing pipeline with the direct runner.\n",
            "2019/01/30 22:44:54 Pipeline:\n",
            "2019/01/30 22:44:54 Nodes: {1: []uint8/bytes GLO}\n",
            "{2: string/string[string] GLO}\n",
            "{3: string/string[string] GLO}\n",
            "{4: string/string[string] GLO}\n",
            "{5: string/string[string] GLO}\n",
            "{6: KV<string,int>/KV<string[string],int[varintz]> GLO}\n",
            "{7: CoGBK<string,int>/CoGBK<string[string],int[varintz]> GLO}\n",
            "{8: KV<string,int>/KV<string[string],int[varintz]> GLO}\n",
            "{9: string/string[string] GLO}\n",
            "{10: KV<int,string>/KV<int[varintz],string[string]> GLO}\n",
            "{11: CoGBK<int,string>/CoGBK<int[varintz],string[string]> GLO}\n",
            "Edges: 1: Impulse [] -> [Out: []uint8 -> {1: []uint8/bytes GLO}]\n",
            "2: ParDo [In(Main): []uint8 <- {1: []uint8/bytes GLO}] -> [Out: T -> {2: string/string[string] GLO}]\n",
            "3: ParDo [In(Main): string <- {2: string/string[string] GLO}] -> [Out: string -> {3: string/string[string] GLO}]\n",
            "4: ParDo [In(Main): string <- {3: string/string[string] GLO}] -> [Out: string -> {4: string/string[string] GLO}]\n",
            "5: ParDo [In(Main): string <- {4: string/string[string] GLO}] -> [Out: string -> {5: string/string[string] GLO}]\n",
            "6: ParDo [In(Main): T <- {5: string/string[string] GLO}] -> [Out: KV<T,int> -> {6: KV<string,int>/KV<string[string],int[varintz]> GLO}]\n",
            "7: CoGBK [In(Main): KV<string,int> <- {6: KV<string,int>/KV<string[string],int[varintz]> GLO}] -> [Out: CoGBK<string,int> -> {7: CoGBK<string,int>/CoGBK<string[string],int[varintz]> GLO}]\n",
            "8: Combine [In(Main): int <- {7: CoGBK<string,int>/CoGBK<string[string],int[varintz]> GLO}] -> [Out: KV<string,int> -> {8: KV<string,int>/KV<string[string],int[varintz]> GLO}]\n",
            "9: ParDo [In(Main): KV<string,int> <- {8: KV<string,int>/KV<string[string],int[varintz]> GLO}] -> [Out: string -> {9: string/string[string] GLO}]\n",
            "10: ParDo [In(Main): T <- {9: string/string[string] GLO}] -> [Out: KV<int,T> -> {10: KV<int,string>/KV<int[varintz],string[string]> GLO}]\n",
            "11: CoGBK [In(Main): KV<int,string> <- {10: KV<int,string>/KV<int[varintz],string[string]> GLO}] -> [Out: CoGBK<int,string> -> {11: CoGBK<int,string>/CoGBK<int[varintz],string[string]> GLO}]\n",
            "12: ParDo [In(Main): CoGBK<int,string> <- {11: CoGBK<int,string>/CoGBK<int[varintz],string[string]> GLO}] -> []\n",
            "2019/01/30 22:44:54 Plan[plan]:\n",
            "14: Impulse[0]\n",
            "1: ParDo[textio.writeFileFn] Out:[]\n",
            "2: CoGBK. Out:1\n",
            "3: Inject[0]. Out:2\n",
            "4: ParDo[beam.addFixedKeyFn] Out:[3]\n",
            "5: ParDo[main.main.func2] Out:[4]\n",
            "6: Combine[stats.sumIntFn] Keyed:false Out:5\n",
            "7: CoGBK. Out:6\n",
            "8: Inject[0]. Out:7\n",
            "9: ParDo[stats.mapFn] Out:[8]\n",
            "10: ParDo[main.main.func1] Out:[9]\n",
            "11: ParDo[textio.readFn] Out:[10]\n",
            "12: ParDo[textio.expandFn] Out:[11]\n",
            "13: ParDo[beam.createFn] Out:[12]\n",
            "2019/01/30 22:44:54 Reading from data/kinglear.txt\n",
            "2019/01/30 22:44:54 Writing to outputs/wordcounts.txt\n",
            "\n",
            ">> head -n 20 outputs/*\n",
            "invades: 1\n",
            "disorder'd: 2\n",
            "Louder: 1\n",
            "revenging: 1\n",
            "bemadding: 1\n",
            "eggs: 1\n",
            "foreign: 1\n",
            "fork: 1\n",
            "day: 7\n",
            "whom: 10\n",
            "thou: 179\n",
            "Ha: 8\n",
            "derogate: 1\n",
            "speedy: 4\n",
            "Infirmity: 1\n",
            "Lear's: 4\n",
            "how: 25\n",
            "Again: 2\n",
            "banners: 1\n",
            "renounce: 1\n",
            "\n"
          ],
          "name": "stdout"
        }
      ]
    },
    {
      "metadata": {
        "id": "U0ef3qVwrKI4",
        "colab_type": "text"
      },
      "cell_type": "markdown",
      "source": [
        "If you want to distribute the binary created, we'll have to explicitly build it."
      ]
    },
    {
      "metadata": {
        "id": "RgsMGoOfshbG",
        "colab_type": "code",
        "colab": {
          "base_uri": "https://localhost:8080/",
          "height": 680
        },
        "outputId": "8256f05d-d025-404f-c746-a88aa58fecea"
      },
      "cell_type": "code",
      "source": [
        "# Build the wordcount package, it will be compiled into $GOPATH/bin.\n",
        "run('go build wordcount')\n",
        "\n",
        "# Here's our compiled binary.\n",
        "run(f\"ls -lh {GOPATH}/bin/wordcount\")\n",
        "\n",
        "# We can run it from the shell like any other binary.\n",
        "run('rm -rf outputs/')\n",
        "run(f\"{GOPATH}/bin/wordcount\")\n",
        "\n",
        "# Sample the first 20 results, remember there are no ordering guarantees.\n",
        "run('head -n 20 outputs/*')"
      ],
      "execution_count": 6,
      "outputs": [
        {
          "output_type": "stream",
          "text": [
            ">> go build wordcount\n",
            "\n",
            ">> ls -lh /root/go/bin/wordcount\n",
            "-rwxr-xr-x 1 root root 30M Jan 30 22:44 /root/go/bin/wordcount\n",
            "\n",
            ">> rm -rf outputs/\n",
            "\n",
            ">> /root/go/bin/wordcount\n",
            "2019/01/30 22:45:00 Func for func(reflect.Type, []uint8) (typex.T, error) already registered. Overwriting.\n",
            "2019/01/30 22:45:00 Func for func(int, int) int already registered. Overwriting.\n",
            "2019/01/30 22:45:00 Func for func(int8, int8) int8 already registered. Overwriting.\n",
            "2019/01/30 22:45:00 Func for func(int16, int16) int16 already registered. Overwriting.\n",
            "2019/01/30 22:45:00 Func for func(int32, int32) int32 already registered. Overwriting.\n",
            "2019/01/30 22:45:00 Func for func(int64, int64) int64 already registered. Overwriting.\n",
            "2019/01/30 22:45:00 Func for func(uint, uint) uint already registered. Overwriting.\n",
            "2019/01/30 22:45:00 Func for func(uint8, uint8) uint8 already registered. Overwriting.\n",
            "2019/01/30 22:45:00 Func for func(uint16, uint16) uint16 already registered. Overwriting.\n",
            "2019/01/30 22:45:00 Func for func(uint32, uint32) uint32 already registered. Overwriting.\n",
            "2019/01/30 22:45:00 Func for func(uint64, uint64) uint64 already registered. Overwriting.\n",
            "2019/01/30 22:45:00 Func for func(float32, float32) float32 already registered. Overwriting.\n",
            "2019/01/30 22:45:00 Func for func(float64, float64) float64 already registered. Overwriting.\n",
            "2019/01/30 22:45:00 Func for func([]uint8) int32 already registered. Overwriting.\n",
            "2019/01/30 22:45:00 Func for func([]uint8) int64 already registered. Overwriting.\n",
            "2019/01/30 22:45:00 Func for func([]uint8) uint32 already registered. Overwriting.\n",
            "2019/01/30 22:45:00 Func for func([]uint8) uint64 already registered. Overwriting.\n",
            "2019/01/30 22:45:00 Func for func([]uint8) typex.T already registered. Overwriting.\n",
            "2019/01/30 22:45:00 Func for func(reflect.Type, []uint8) (typex.T, error) already registered. Overwriting.\n",
            "2019/01/30 22:45:00 Emitter for func(typex.T) already registered. Overwriting.\n",
            "2019/01/30 22:45:00 Func for func(int32) []uint8 already registered. Overwriting.\n",
            "2019/01/30 22:45:00 Func for func(int64) []uint8 already registered. Overwriting.\n",
            "2019/01/30 22:45:00 Func for func(uint32) []uint8 already registered. Overwriting.\n",
            "2019/01/30 22:45:00 Func for func(uint64) []uint8 already registered. Overwriting.\n",
            "2019/01/30 22:45:00 Func for func(typex.T) []uint8 already registered. Overwriting.\n",
            "2019/01/30 22:45:00 Func for func(typex.T) ([]uint8, error) already registered. Overwriting.\n",
            "2019/01/30 22:45:00 No output provided\n",
            "\n",
            ">> head -n 20 outputs/*\n",
            "head: cannot open 'outputs/*' for reading: No such file or directory\n",
            "\n"
          ],
          "name": "stdout"
        }
      ]
    },
    {
      "metadata": {
        "id": "k-HubCrk-h_G",
        "colab_type": "text"
      },
      "cell_type": "markdown",
      "source": [
        "# Word count with comments\n",
        "\n",
        "Below is mostly the same code as above, but with comments explaining every line in detail."
      ]
    },
    {
      "metadata": {
        "id": "x_D7sxUHFzUp",
        "colab_type": "code",
        "outputId": "71a2df90-6683-4150-c7d7-ffebd6b89bfa",
        "colab": {
          "base_uri": "https://localhost:8080/",
          "height": 34
        }
      },
      "cell_type": "code",
      "source": [
        "%%writefile go/src/wordcount/wordcount.go\n",
        "\n",
        "package main\n",
        "\n",
        "import (\n",
        "\t\"context\"\n",
        "  \"flag\"\n",
        "\t\"fmt\"\n",
        "\t\"regexp\"\n",
        "\n",
        "\t\"github.com/apache/beam/sdks/go/pkg/beam\"\n",
        "\t\"github.com/apache/beam/sdks/go/pkg/beam/io/textio\"\n",
        "\t\"github.com/apache/beam/sdks/go/pkg/beam/runners/direct\"\n",
        "\t\"github.com/apache/beam/sdks/go/pkg/beam/transforms/stats\"\n",
        "\n",
        "\t_ \"github.com/apache/beam/sdks/go/pkg/beam/io/filesystem/local\"\n",
        ")\n",
        "\n",
        "var (\n",
        "\tinput = flag.String(\"input\", \"data/*\", \"File(s) to read.\")\n",
        "\toutput = flag.String(\"output\", \"outputs/wordcounts.txt\", \"Output filename.\")\n",
        ")\n",
        "\n",
        "var wordRE = regexp.MustCompile(`[a-zA-Z]+('[a-z])?`)\n",
        "\n",
        "func main() {\n",
        "  flag.Parse()\n",
        "\n",
        "\tbeam.Init()\n",
        "\n",
        "\tpipeline := beam.NewPipeline()\n",
        "\troot := pipeline.Root()\n",
        "\n",
        "  // Read lines from a text file.\n",
        "\tlines := textio.Read(root, *input)\n",
        "\n",
        "  // Use a regular expression to iterate over all words in the line.\n",
        "\twords := beam.ParDo(root, func(line string, emit func(string)) {\n",
        "\t\tfor _, word := range wordRE.FindAllString(line, -1) {\n",
        "\t\t\temit(word)\n",
        "\t\t}\n",
        "\t}, lines)\n",
        "\n",
        "  // Count each unique word.\n",
        "\tcounted := stats.Count(root, words)\n",
        "\n",
        "  // Format the results into a string so we can write them to a file.\n",
        "\tformatted := beam.ParDo(root, func(word string, count int) string {\n",
        "\t\treturn fmt.Sprintf(\"%s: %v\", word, count)\n",
        "\t}, counted)\n",
        "\n",
        "  // Finally, write the results to a file.\n",
        "\ttextio.Write(root, *output, formatted)\n",
        "\n",
        "  // We have to explicitly run the pipeline, otherwise it's only a definition.\n",
        "\tdirect.Execute(context.Background(), pipeline)\n",
        "}"
      ],
      "execution_count": 7,
      "outputs": [
        {
          "output_type": "stream",
          "text": [
            "Overwriting go/src/wordcount/wordcount.go\n"
          ],
          "name": "stdout"
        }
      ]
    },
    {
      "metadata": {
        "id": "H620PSl46wDK",
        "colab_type": "code",
        "colab": {
          "base_uri": "https://localhost:8080/",
          "height": 1193
        },
        "outputId": "bc844ae7-aa0c-4c03-eb3a-1b3d211f6459"
      },
      "cell_type": "code",
      "source": [
        "# Build and run the program.\n",
        "run('go run go/src/wordcount/*.go')\n",
        "\n",
        "# Sample the first 20 results, remember there are no ordering guarantees.\n",
        "run('head -n 20 outputs/*')"
      ],
      "execution_count": 8,
      "outputs": [
        {
          "output_type": "stream",
          "text": [
            ">> go run go/src/wordcount/*.go\n",
            "2019/01/30 22:45:04 Func for func(reflect.Type, []uint8) (typex.T, error) already registered. Overwriting.\n",
            "2019/01/30 22:45:04 EXTRACTING StructWrapper for beam.createFn\n",
            "2019/01/30 22:45:04 Executing pipeline with the direct runner.\n",
            "2019/01/30 22:45:04 Pipeline:\n",
            "2019/01/30 22:45:04 Nodes: {1: []uint8/bytes GLO}\n",
            "{2: string/string[string] GLO}\n",
            "{3: string/string[string] GLO}\n",
            "{4: string/string[string] GLO}\n",
            "{5: string/string[string] GLO}\n",
            "{6: KV<string,int>/KV<string[string],int[varintz]> GLO}\n",
            "{7: CoGBK<string,int>/CoGBK<string[string],int[varintz]> GLO}\n",
            "{8: KV<string,int>/KV<string[string],int[varintz]> GLO}\n",
            "{9: string/string[string] GLO}\n",
            "{10: KV<int,string>/KV<int[varintz],string[string]> GLO}\n",
            "{11: CoGBK<int,string>/CoGBK<int[varintz],string[string]> GLO}\n",
            "Edges: 1: Impulse [] -> [Out: []uint8 -> {1: []uint8/bytes GLO}]\n",
            "2: ParDo [In(Main): []uint8 <- {1: []uint8/bytes GLO}] -> [Out: T -> {2: string/string[string] GLO}]\n",
            "3: ParDo [In(Main): string <- {2: string/string[string] GLO}] -> [Out: string -> {3: string/string[string] GLO}]\n",
            "4: ParDo [In(Main): string <- {3: string/string[string] GLO}] -> [Out: string -> {4: string/string[string] GLO}]\n",
            "5: ParDo [In(Main): string <- {4: string/string[string] GLO}] -> [Out: string -> {5: string/string[string] GLO}]\n",
            "6: ParDo [In(Main): T <- {5: string/string[string] GLO}] -> [Out: KV<T,int> -> {6: KV<string,int>/KV<string[string],int[varintz]> GLO}]\n",
            "7: CoGBK [In(Main): KV<string,int> <- {6: KV<string,int>/KV<string[string],int[varintz]> GLO}] -> [Out: CoGBK<string,int> -> {7: CoGBK<string,int>/CoGBK<string[string],int[varintz]> GLO}]\n",
            "8: Combine [In(Main): int <- {7: CoGBK<string,int>/CoGBK<string[string],int[varintz]> GLO}] -> [Out: KV<string,int> -> {8: KV<string,int>/KV<string[string],int[varintz]> GLO}]\n",
            "9: ParDo [In(Main): KV<string,int> <- {8: KV<string,int>/KV<string[string],int[varintz]> GLO}] -> [Out: string -> {9: string/string[string] GLO}]\n",
            "10: ParDo [In(Main): T <- {9: string/string[string] GLO}] -> [Out: KV<int,T> -> {10: KV<int,string>/KV<int[varintz],string[string]> GLO}]\n",
            "11: CoGBK [In(Main): KV<int,string> <- {10: KV<int,string>/KV<int[varintz],string[string]> GLO}] -> [Out: CoGBK<int,string> -> {11: CoGBK<int,string>/CoGBK<int[varintz],string[string]> GLO}]\n",
            "12: ParDo [In(Main): CoGBK<int,string> <- {11: CoGBK<int,string>/CoGBK<int[varintz],string[string]> GLO}] -> []\n",
            "2019/01/30 22:45:04 Plan[plan]:\n",
            "14: Impulse[0]\n",
            "1: ParDo[textio.writeFileFn] Out:[]\n",
            "2: CoGBK. Out:1\n",
            "3: Inject[0]. Out:2\n",
            "4: ParDo[beam.addFixedKeyFn] Out:[3]\n",
            "5: ParDo[main.main.func2] Out:[4]\n",
            "6: Combine[stats.sumIntFn] Keyed:false Out:5\n",
            "7: CoGBK. Out:6\n",
            "8: Inject[0]. Out:7\n",
            "9: ParDo[stats.mapFn] Out:[8]\n",
            "10: ParDo[main.main.func1] Out:[9]\n",
            "11: ParDo[textio.readFn] Out:[10]\n",
            "12: ParDo[textio.expandFn] Out:[11]\n",
            "13: ParDo[beam.createFn] Out:[12]\n",
            "2019/01/30 22:45:04 Reading from data/kinglear.txt\n",
            "2019/01/30 22:45:04 Writing to outputs/wordcounts.txt\n",
            "\n",
            ">> head -n 20 outputs/*\n",
            "breed: 2\n",
            "poorest: 2\n",
            "apply: 1\n",
            "Sunshine: 1\n",
            "cheese: 1\n",
            "Plate: 1\n",
            "step: 2\n",
            "intends: 2\n",
            "bawd: 1\n",
            "Quite: 1\n",
            "lies: 3\n",
            "Burn: 1\n",
            "trunk: 2\n",
            "Well: 12\n",
            "Monsieur: 1\n",
            "wreath: 1\n",
            "Prove: 1\n",
            "marvel: 4\n",
            "roofs: 1\n",
            "undivulged: 1\n",
            "\n"
          ],
          "name": "stdout"
        }
      ]
    }
  ]
}