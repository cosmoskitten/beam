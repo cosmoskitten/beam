{
  "license": [
    "Licensed to the Apache Software Foundation (ASF) under one", 
    "or more contributor license agreements.  See the NOTICE file", 
    "distributed with this work for additional information", 
    "regarding copyright ownership.  The ASF licenses this file", 
    "to you under the Apache License, Version 2.0 (the", 
    "\"License\"); you may not use this file except in compliance", 
    "with the License.  You may obtain a copy of the License at", 
    "", 
    "  http://www.apache.org/licenses/LICENSE-2.0", 
    "", 
    "Unless required by applicable law or agreed to in writing,", 
    "software distributed under the License is distributed on an", 
    "\"AS IS\" BASIS, WITHOUT WARRANTIES OR CONDITIONS OF ANY", 
    "KIND, either express or implied.  See the License for the", 
    "specific language governing permissions and limitations", 
    "under the License."
  ], 
  "nbformat": 4, 
  "cells": [
    {
      "source": [
        "<a href=\"https://colab.research.google.com/github/apache/beam/blob/master/examples/notebooks/io/custom-outputs-pardo.ipynb\" target=\"_parent\"><img src=\"https://colab.research.google.com/assets/colab-badge.svg\" alt=\"Open In Colab\"/></a>"
      ], 
      "cell_type": "markdown", 
      "metadata": {
        "colab_type": "text", 
        "id": "view-in-github"
      }
    }, 
    {
      "source": [
        "# Custom outputs - ParDo\n", 
        "\n", 
        "`ParDo` is the recommended way to implement a Sink, since implementing one can be tricky."
      ], 
      "cell_type": "markdown", 
      "metadata": {
        "colab_type": "text", 
        "id": "wAFLwhVkcs_S"
      }
    }, 
    {
      "source": [
        "# Setup\n", 
        "\n", 
        "First, let's install `apache-beam`."
      ], 
      "cell_type": "markdown", 
      "metadata": {
        "colab_type": "text", 
        "id": "DOf-0hdvbH2R"
      }
    }, 
    {
      "source": [
        "# Run and print a shell command.\n", 
        "def run(cmd):\n", 
        "  print('>> {}'.format(cmd))\n", 
        "  !{cmd}\n", 
        "  print('')\n", 
        "\n", 
        "# Install apache-beam.\n", 
        "run('pip install --quiet apache-beam')"
      ], 
      "cell_type": "code", 
      "execution_count": 0, 
      "outputs": [
        {
          "output_type": "stream", 
          "name": "stdout", 
          "text": [
            ">> pip install --quiet apache-beam\n", 
            "\n"
          ]
        }
      ], 
      "metadata": {
        "outputId": "f61b7325-18d9-48a2-8eb2-f9b91947b94d", 
        "colab_type": "code", 
        "id": "IvkH2xq_Fi-U", 
        "colab": {
          "base_uri": "https://localhost:8080/", 
          "height": 51
        }
      }
    }, 
    {
      "source": [
        "# Example: Write to files\n", 
        "\n", 
        "A PCollection might contain more elements than what fit into memory in a single machine. So it's a good idea to break it into batches and then we can deal with each batch independently. To keep things simple, we'll create one file per batch.\n", 
        "\n", 
        "A very simple batching strategy is to just assign each element to a random batch."
      ], 
      "cell_type": "markdown", 
      "metadata": {
        "colab_type": "text", 
        "id": "FrlHKJAe0DHP"
      }
    }, 
    {
      "source": [
        "run('rm -rf outputs')"
      ], 
      "cell_type": "code", 
      "execution_count": 0, 
      "outputs": [
        {
          "output_type": "stream", 
          "name": "stdout", 
          "text": [
            ">> rm -rf outputs\n", 
            "\n"
          ]
        }
      ], 
      "metadata": {
        "outputId": "046b4cdc-015a-4e39-e08c-d0353e446682", 
        "colab_type": "code", 
        "id": "j53b2lUOPdN7", 
        "colab": {
          "base_uri": "https://localhost:8080/", 
          "height": 51
        }
      }
    }, 
    {
      "source": [
        "import apache_beam as beam\n", 
        "import logging\n", 
        "import random\n", 
        "import os\n", 
        "\n", 
        "if not os.path.exists('outputs'):\n", 
        "  os.makedirs('outputs')\n", 
        "\n", 
        "def write_to_file(key_value):\n", 
        "  batch_idx, values = key_value\n", 
        "  with open('outputs/part-{}'.format(batch_idx), 'w') as f:\n", 
        "    for value in values:\n", 
        "      f.write('{}\\n'.format(value))\n", 
        "\n", 
        "# Running locally in the DirectRunner.\n", 
        "with beam.Pipeline() as pipeline:\n", 
        "  (\n", 
        "      pipeline\n", 
        "      | 'Create inputs' >> beam.Create([i for i in range(10)])\n", 
        "      | 'Set key to a randomized batch number' >> beam.Map(\n", 
        "          lambda element: (random.randint(1, 3), element))\n", 
        "      | 'Group into batches' >> beam.GroupByKey()\n", 
        "      | 'Write to files' >> beam.ParDo(write_to_file)\n", 
        "  )\n", 
        "\n", 
        "# Check the outputs.\n", 
        "!ls -lh outputs/\n", 
        "!head outputs/part*"
      ], 
      "cell_type": "code", 
      "execution_count": 0, 
      "outputs": [
        {
          "output_type": "stream", 
          "name": "stdout", 
          "text": [
            "total 12K\n", 
            "-rw-r--r-- 1 root root  6 Jan 30 00:41 part-1\n", 
            "-rw-r--r-- 1 root root 12 Jan 30 00:41 part-2\n", 
            "-rw-r--r-- 1 root root  2 Jan 30 00:41 part-3\n", 
            "==> outputs/part-1 <==\n", 
            "0\n", 
            "1\n", 
            "5\n", 
            "\n", 
            "==> outputs/part-2 <==\n", 
            "2\n", 
            "3\n", 
            "4\n", 
            "7\n", 
            "8\n", 
            "9\n", 
            "\n", 
            "==> outputs/part-3 <==\n", 
            "6\n"
          ]
        }
      ], 
      "metadata": {
        "outputId": "ede672b0-da4c-4ef9-b4ab-dc5a98988976", 
        "colab_type": "code", 
        "id": "WJd4YPMPM4ty", 
        "colab": {
          "base_uri": "https://localhost:8080/", 
          "height": 340
        }
      }
    }, 
    {
      "source": [
        "However, this requires us to know the number of batches we want to split our data into which might not be possible in a streaming scenario.\n", 
        "\n", 
        "Another option is to create batches as elements arrive and yield a list of elements once it has reached the desired size."
      ], 
      "cell_type": "markdown", 
      "metadata": {
        "colab_type": "text", 
        "id": "CMC7wBYsMFrY"
      }
    }, 
    {
      "source": [
        "run('rm -rf outputs')"
      ], 
      "cell_type": "code", 
      "execution_count": 0, 
      "outputs": [
        {
          "output_type": "stream", 
          "name": "stdout", 
          "text": [
            ">> rm -rf outputs\n", 
            "\n"
          ]
        }
      ], 
      "metadata": {
        "outputId": "827bb84f-82c0-40f9-f166-80ebc1abb166", 
        "colab_type": "code", 
        "id": "0IYUbGkmPfek", 
        "colab": {
          "base_uri": "https://localhost:8080/", 
          "height": 51
        }
      }
    }, 
    {
      "source": [
        "import apache_beam as beam\n", 
        "import logging\n", 
        "import os\n", 
        "\n", 
        "if not os.path.exists('outputs'):\n", 
        "  os.makedirs('outputs')\n", 
        "\n", 
        "def write_to_file(key_value):\n", 
        "  batch_idx, values = key_value\n", 
        "  with open('outputs/part-{}'.format(batch_idx), 'w') as f:\n", 
        "    for value in values:\n", 
        "      f.write('{}\\n'.format(value))\n", 
        "\n", 
        "class GroupIntoBatches(beam.DoFn):\n", 
        "  def __init__(self, n):\n", 
        "    self.n = n\n", 
        "    self.buffer = []\n", 
        "    self.batch_idx = 0\n", 
        "\n", 
        "  def process(self, element):\n", 
        "    self.buffer.append(element)\n", 
        "    if len(self.buffer) == self.n:\n", 
        "      yield self.batch_idx, list(self.buffer)\n", 
        "      self.buffer = []\n", 
        "      self.batch_idx += 1\n", 
        "\n", 
        "  def finish_bundle(self):\n", 
        "    if len(self.buffer) != 0:\n", 
        "      value = self.batch_idx, list(self.buffer)\n", 
        "      yield beam.utils.windowed_value.WindowedValue(value, -1, [])\n", 
        "\n", 
        "# Running locally in the DirectRunner.\n", 
        "with beam.Pipeline() as pipeline:\n", 
        "  (\n", 
        "      pipeline\n", 
        "      | 'Create inputs' >> beam.Create([i for i in range(10)])\n", 
        "      | 'Group into batches' >> beam.ParDo(GroupIntoBatches(3))\n", 
        "      | 'Write to files' >> beam.ParDo(write_to_file)\n", 
        "  )\n", 
        "\n", 
        "# Check the outputs.\n", 
        "!ls -lh outputs/\n", 
        "!head outputs/part*"
      ], 
      "cell_type": "code", 
      "execution_count": 0, 
      "outputs": [
        {
          "output_type": "stream", 
          "name": "stdout", 
          "text": [
            "total 16K\n", 
            "-rw-r--r-- 1 root root 6 Jan 30 00:52 part-0\n", 
            "-rw-r--r-- 1 root root 6 Jan 30 00:52 part-1\n", 
            "-rw-r--r-- 1 root root 6 Jan 30 00:52 part-2\n", 
            "-rw-r--r-- 1 root root 2 Jan 30 00:52 part-3\n", 
            "==> outputs/part-0 <==\n", 
            "0\n", 
            "1\n", 
            "2\n", 
            "\n", 
            "==> outputs/part-1 <==\n", 
            "3\n", 
            "4\n", 
            "5\n", 
            "\n", 
            "==> outputs/part-2 <==\n", 
            "6\n", 
            "7\n", 
            "8\n", 
            "\n", 
            "==> outputs/part-3 <==\n", 
            "9\n"
          ]
        }
      ], 
      "metadata": {
        "outputId": "a1c5cae3-7f2a-4ee4-f9d7-5f370a8fe70d", 
        "colab_type": "code", 
        "id": "cELzsVNfLflu", 
        "colab": {
          "base_uri": "https://localhost:8080/", 
          "height": 391
        }
      }
    }
  ], 
  "metadata": {
    "kernelspec": {
      "display_name": "Python 2", 
      "name": "python2"
    }, 
    "colab": {
      "include_colab_link": true, 
      "name": "Custom outputs - ParDo - Apache Beam", 
      "toc_visible": true, 
      "provenance": [], 
      "collapsed_sections": [], 
      "version": "0.3.2"
    }
  }, 
  "nbformat_minor": 0
}