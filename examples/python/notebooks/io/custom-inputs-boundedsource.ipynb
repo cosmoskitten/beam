{
  "nbformat": 4,
  "nbformat_minor": 0,
  "metadata": {
    "colab": {
      "name": "Custom inputs - BoundedSource - Apache Beam",
      "version": "0.3.2",
      "provenance": [],
      "collapsed_sections": [],
      "toc_visible": true,
      "include_colab_link": true
    },
    "kernelspec": {
      "name": "python2",
      "display_name": "Python 2"
    }
  },
  "cells": [
    {
      "cell_type": "markdown",
      "metadata": {
        "id": "view-in-github",
        "colab_type": "text"
      },
      "source": [
        "<a href=\"https://colab.research.google.com/github/davidcavazos/beam/blob/colab-notebooks/examples/python/notebooks/io/custom-inputs-boundedsource.ipynb\" target=\"_parent\"><img src=\"https://colab.research.google.com/assets/colab-badge.svg\" alt=\"Open In Colab\"/></a>"
      ]
    },
    {
      "metadata": {
        "id": "wAFLwhVkcs_S",
        "colab_type": "text"
      },
      "cell_type": "markdown",
      "source": [
        "# Custom inputs - BoundedSource\n",
        "\n",
        "`ParDo` is the recommended way to implement a Source, since implementing one can be tricky.\n",
        "\n",
        "To learn more on when to use a `BoundedSource`, see [When to use the Source interface\n",
        "](https://beam.apache.org/documentation/io/developing-io-overview/index.html#when-to-use-source).\n",
        "\n",
        "To learn more about ParDo for custom inputs, see [Custom Inputs - ParDo](https://colab.research.google.com/drive/1r-o2QJ-D-I0TV4NIQR6pAN2t4Pxt2-Ey)."
      ]
    },
    {
      "metadata": {
        "id": "DOf-0hdvbH2R",
        "colab_type": "text"
      },
      "cell_type": "markdown",
      "source": [
        "# Setup\n",
        "\n",
        "First, let's install `apache-beam`."
      ]
    },
    {
      "metadata": {
        "id": "IvkH2xq_Fi-U",
        "colab_type": "code",
        "outputId": "b6dc21c8-8ece-4bf8-f9a1-35d980a7c233",
        "colab": {
          "base_uri": "https://localhost:8080/",
          "height": 51
        }
      },
      "cell_type": "code",
      "source": [
        "# Run and print a shell command.\n",
        "def run(cmd):\n",
        "  print('>> {}'.format(cmd))\n",
        "  !{cmd}\n",
        "  print('')\n",
        "\n",
        "# Install apache-beam.\n",
        "run('pip install --quiet apache-beam')"
      ],
      "execution_count": 0,
      "outputs": [
        {
          "output_type": "stream",
          "text": [
            ">> pip install --quiet apache-beam\n",
            "\n"
          ],
          "name": "stdout"
        }
      ]
    },
    {
      "metadata": {
        "id": "54ZCejL1sy7Q",
        "colab_type": "text"
      },
      "cell_type": "markdown",
      "source": [
        "# Example: RangeSource\n",
        "\n",
        "We create a `BoundedSource` that behaves like Python's [`range`](https://docs.python.org/2.7/library/functions.html#range) built-in function in this example.\n",
        "\n",
        "First, we'll explore how to iterate through bundles of data."
      ]
    },
    {
      "metadata": {
        "id": "JhcY3d5CMQ_N",
        "colab_type": "code",
        "outputId": "721000d7-a558-4ffa-be0f-f2ebbe63fa9b",
        "colab": {
          "base_uri": "https://localhost:8080/",
          "height": 108
        }
      },
      "cell_type": "code",
      "source": [
        "start = 0\n",
        "stop = 42\n",
        "bundle_size = 10\n",
        "\n",
        "for bundle_start in range(start, stop, bundle_size):\n",
        "  bundle_stop = min(stop, bundle_start + bundle_size)\n",
        "  print('{:>2} - {:>2}'.format(bundle_start, bundle_stop))"
      ],
      "execution_count": 0,
      "outputs": [
        {
          "output_type": "stream",
          "text": [
            " 0 - 10\n",
            "10 - 20\n",
            "20 - 30\n",
            "30 - 40\n",
            "40 - 42\n"
          ],
          "name": "stdout"
        }
      ]
    },
    {
      "metadata": {
        "id": "UNmOY_96cPYi",
        "colab_type": "text"
      },
      "cell_type": "markdown",
      "source": [
        "Below is what `CountingSource` looks like. We are using [`OffsetRangeTracker`](https://beam.apache.org/releases/pydoc/current/apache_beam.io.range_trackers.html?highlight=range%20tracker#apache_beam.io.range_trackers.OffsetRangeTracker) in this example, but more complex sources may need to [implement their own `RangeTracker`](https://beam.apache.org/documentation/io/developing-io-python/#implementing-the-rangetracker-subclass)."
      ]
    },
    {
      "metadata": {
        "id": "lgs7A6WansCQ",
        "colab_type": "code",
        "outputId": "27a067c5-fe0c-4aee-f4fb-8579aa72fc8c",
        "colab": {
          "base_uri": "https://localhost:8080/",
          "height": 170
        }
      },
      "cell_type": "code",
      "source": [
        "import apache_beam as beam\n",
        "import logging\n",
        "\n",
        "class RangeSource(beam.io.iobase.BoundedSource):\n",
        "  def __init__(self, start, stop, step=1):\n",
        "    self.start = start\n",
        "    self.stop = stop\n",
        "    self.step = step\n",
        "\n",
        "  def estimate_size(self):\n",
        "    return (self.stop - self.start) / self.step\n",
        "\n",
        "  def get_range_tracker(self, start, stop):\n",
        "    if start is None:\n",
        "      start = self.start\n",
        "    if stop is None:\n",
        "      stop = self.stop\n",
        "    return beam.io.range_trackers.OffsetRangeTracker(start, stop)\n",
        "\n",
        "  def read(self, range_tracker):\n",
        "    start = range_tracker.start_position()\n",
        "    stop = range_tracker.stop_position()\n",
        "    for i in range(start, stop, self.step):\n",
        "      if not range_tracker.try_claim(i):\n",
        "        return\n",
        "      yield i\n",
        "\n",
        "  def split(self, bundle_size, start=None, stop=None):\n",
        "    if start is None:\n",
        "      start = self.start\n",
        "    if stop is None:\n",
        "      stop = self.stop\n",
        "\n",
        "    for bundle_start in range(start, stop, bundle_size):\n",
        "      bundle_stop = min(stop, bundle_start + bundle_size)\n",
        "      yield beam.io.iobase.SourceBundle(\n",
        "          weight=bundle_stop - bundle_start,\n",
        "          source=self,\n",
        "          start_position=bundle_start,\n",
        "          stop_position=bundle_stop,\n",
        "      )\n",
        "\n",
        "# Running locally in the DirectRunner.\n",
        "with beam.Pipeline() as pipeline:\n",
        "  (\n",
        "      pipeline\n",
        "      | 'Read from RangeSource' >> beam.io.Read(RangeSource(10, 100, 10))\n",
        "      | 'Inspect elements' >> beam.Map(logging.warning)\n",
        "  )"
      ],
      "execution_count": 0,
      "outputs": [
        {
          "output_type": "stream",
          "text": [
            "WARNING:root:10\n",
            "WARNING:root:20\n",
            "WARNING:root:30\n",
            "WARNING:root:40\n",
            "WARNING:root:50\n",
            "WARNING:root:60\n",
            "WARNING:root:70\n",
            "WARNING:root:80\n",
            "WARNING:root:90\n"
          ],
          "name": "stderr"
        }
      ]
    },
    {
      "metadata": {
        "id": "15cIGm8IXDkr",
        "colab_type": "text"
      },
      "cell_type": "markdown",
      "source": [
        "We can also wrap this process up into a `PTransform` to have a nicer `Source` interface."
      ]
    },
    {
      "metadata": {
        "id": "z__weB-1VnIS",
        "colab_type": "code",
        "outputId": "c8ea3136-95a5-4193-8a8b-4b225df15151",
        "colab": {
          "base_uri": "https://localhost:8080/",
          "height": 170
        }
      },
      "cell_type": "code",
      "source": [
        "class ReadFromRangeSource(beam.PTransform):\n",
        "  def __init__(self, start, stop, step=1):\n",
        "    super(ReadFromRangeSource, self).__init__()\n",
        "    self.start = start\n",
        "    self.stop = stop\n",
        "    self.step = step\n",
        "\n",
        "  def expand(self, pcollection):\n",
        "    return (\n",
        "      pcollection\n",
        "      | 'RangeSource' >> beam.io.Read(RangeSource(self.start, self.stop, self.step))\n",
        "    )\n",
        "\n",
        "# Running locally in the DirectRunner.\n",
        "with beam.Pipeline() as pipeline:\n",
        "  (\n",
        "      pipeline\n",
        "      | 'Read from RangeSource' >> ReadFromRangeSource(10, 100, 10)\n",
        "      | 'Inspect elements' >> beam.Map(logging.warning)\n",
        "  )"
      ],
      "execution_count": 0,
      "outputs": [
        {
          "output_type": "stream",
          "text": [
            "WARNING:root:10\n",
            "WARNING:root:20\n",
            "WARNING:root:30\n",
            "WARNING:root:40\n",
            "WARNING:root:50\n",
            "WARNING:root:60\n",
            "WARNING:root:70\n",
            "WARNING:root:80\n",
            "WARNING:root:90\n"
          ],
          "name": "stderr"
        }
      ]
    }
  ]
}