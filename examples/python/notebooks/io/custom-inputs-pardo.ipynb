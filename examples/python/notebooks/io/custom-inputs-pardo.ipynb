{
  "license": [
    "Licensed to the Apache Software Foundation (ASF) under one", 
    "or more contributor license agreements.  See the NOTICE file", 
    "distributed with this work for additional information", 
    "regarding copyright ownership.  The ASF licenses this file", 
    "to you under the Apache License, Version 2.0 (the", 
    "\"License\"); you may not use this file except in compliance", 
    "with the License.  You may obtain a copy of the License at", 
    "", 
    "  http://www.apache.org/licenses/LICENSE-2.0", 
    "", 
    "Unless required by applicable law or agreed to in writing,", 
    "software distributed under the License is distributed on an", 
    "\"AS IS\" BASIS, WITHOUT WARRANTIES OR CONDITIONS OF ANY", 
    "KIND, either express or implied.  See the License for the", 
    "specific language governing permissions and limitations", 
    "under the License."
  ], 
  "nbformat": 4, 
  "cells": [
    {
      "source": [
        "<a href=\"https://colab.research.google.com/github/apache/beam/blob/master/examples/python/notebooks/io/custom-inputs-pardo.ipynb\" target=\"_parent\"><img src=\"https://colab.research.google.com/assets/colab-badge.svg\" alt=\"Open In Colab\"/></a>"
      ], 
      "cell_type": "markdown", 
      "metadata": {
        "colab_type": "text", 
        "id": "view-in-github"
      }
    }, 
    {
      "source": [
        "# Custom inputs - ParDo\n", 
        "\n", 
        "`ParDo` is the recommended way to implement a source, since using the `Source` interface can be tricky.\n", 
        "\n", 
        "To learn more on *when* to use a `Source`, see the [When to use the Source interface\n", 
        "](https://beam.apache.org/documentation/io/developing-io-overview/index.html#when-to-use-source) page.\n", 
        "\n", 
        "To learn more *about* `BoundedSource`, see [Custom Inputs - BoundedSource](https://colab.research.google.com/drive/1GLFB4adNS1oifRklCmyF4MFRQuea6MaV)."
      ], 
      "cell_type": "markdown", 
      "metadata": {
        "colab_type": "text", 
        "id": "wAFLwhVkcs_S"
      }
    }, 
    {
      "source": [
        "# Setup\n", 
        "\n", 
        "First, let's install `apache-beam`."
      ], 
      "cell_type": "markdown", 
      "metadata": {
        "colab_type": "text", 
        "id": "DOf-0hdvbH2R"
      }
    }, 
    {
      "source": [
        "# Run and print a shell command.\n", 
        "def run(cmd):\n", 
        "  print('>> {}'.format(cmd))\n", 
        "  !{cmd}\n", 
        "  print('')\n", 
        "\n", 
        "# Install apache-beam.\n", 
        "run('pip install --quiet apache-beam')"
      ], 
      "cell_type": "code", 
      "execution_count": 0, 
      "outputs": [
        {
          "output_type": "stream", 
          "name": "stdout", 
          "text": [
            ">> pip install --quiet apache-beam\n", 
            "\n"
          ]
        }
      ], 
      "metadata": {
        "outputId": "abcd30d6-01e8-4de9-cdd2-861f576c23e2", 
        "colab_type": "code", 
        "id": "IvkH2xq_Fi-U", 
        "colab": {
          "base_uri": "https://localhost:8080/", 
          "height": 51
        }
      }
    }, 
    {
      "source": [
        "# Example 1: Count generator\n", 
        "\n", 
        "We do the following in this example:\n", 
        "1. Create a generator function.\n", 
        "1. Iterate over it the generator. \n", 
        "1. Apply the function using `ParDo`.\n", 
        "\n", 
        "Firest, we create a generator that accepts a single input and yields zero or more elements. Notice that we use the `yield` keyword instead of `return` so that the generator resumes execution. For now, this is a simple wrapper over the `range` built-in function.\n", 
        "\n", 
        "To learn more about generators, see the [Generators](https://docs.python.org/2/tutorial/classes.html#generators) page."
      ], 
      "cell_type": "markdown", 
      "metadata": {
        "colab_type": "text", 
        "id": "FrlHKJAe0DHP"
      }
    }, 
    {
      "source": [
        "def count(n):\n", 
        "  for i in range(n):\n", 
        "    yield i\n", 
        "\n", 
        "# We can iterate over the generator with a for-loop.\n", 
        "for i in count(10):\n", 
        "  print(i)"
      ], 
      "cell_type": "code", 
      "execution_count": 0, 
      "outputs": [
        {
          "output_type": "stream", 
          "name": "stdout", 
          "text": [
            "0\n", 
            "1\n", 
            "2\n", 
            "3\n", 
            "4\n", 
            "5\n", 
            "6\n", 
            "7\n", 
            "8\n", 
            "9\n"
          ]
        }
      ], 
      "metadata": {
        "outputId": "c23f6363-6da0-4898-a3b1-59caee4b86d4", 
        "colab_type": "code", 
        "id": "W_Rtr-YF2zgF", 
        "colab": {
          "base_uri": "https://localhost:8080/", 
          "height": 187
        }
      }
    }, 
    {
      "source": [
        "In Apache Beam, we must create our inputs before we apply the generator function. In this case, we use the `Create` function with our `n` value as the input. The input of `beam.Create` must be an iterable, and since we only need a single `n` we'll use a list with a single value. \n", 
        "\n", 
        "After we generate our input, we can apply our generator function using the `beam.ParDo` transform. This will take our input values and generate elements.\n", 
        "\n", 
        "Finally, we inspect the elements to see what's inside our `PCollection`. Remember that there are no ordering guarantees in the `PCollection`, unlike in the `for` loop iteration."
      ], 
      "cell_type": "markdown", 
      "metadata": {
        "colab_type": "text", 
        "id": "i54k8LWP6dfy"
      }
    }, 
    {
      "source": [
        "import apache_beam as beam\n", 
        "import logging\n", 
        "\n", 
        "def count(n):\n", 
        "  for i in range(n):\n", 
        "    yield i\n", 
        "\n", 
        "# Running locally in the DirectRunner.\n", 
        "with beam.Pipeline() as pipeline:\n", 
        "  (\n", 
        "      pipeline\n", 
        "      | 'Create inputs' >> beam.Create([10])\n", 
        "      | 'Generate elements' >> beam.ParDo(count)\n", 
        "      | 'Inspect elements' >> beam.Map(logging.warning)\n", 
        "  )"
      ], 
      "cell_type": "code", 
      "execution_count": 0, 
      "outputs": [
        {
          "output_type": "stream", 
          "name": "stderr", 
          "text": [
            "WARNING:root:0\n", 
            "WARNING:root:1\n", 
            "WARNING:root:2\n", 
            "WARNING:root:3\n", 
            "WARNING:root:4\n", 
            "WARNING:root:5\n", 
            "WARNING:root:6\n", 
            "WARNING:root:7\n", 
            "WARNING:root:8\n", 
            "WARNING:root:9\n"
          ]
        }
      ], 
      "metadata": {
        "outputId": "0ff35f23-cab4-41b5-9dfc-55a5aba1aa4a", 
        "colab_type": "code", 
        "id": "WJd4YPMPM4ty", 
        "colab": {
          "base_uri": "https://localhost:8080/", 
          "height": 187
        }
      }
    }, 
    {
      "source": [
        "Note that we can pass in a generator to `beam.ParDo`, although it should only work with a `beam.DoFn`. Internally, if `beam.ParDo` receives a `callable`, it will automatically create a `beam.DoFn` and implement its `process()` method for us. It is roughly equivalent to the following:\n", 
        "\n", 
        "```python\n", 
        "class CountDoFn(beam.DoFn):\n", 
        "  def __init__(self):\n", 
        "    self.process = count\n", 
        "\n", 
        "with beam.Pipeline() as pipeline:\n", 
        "  (\n", 
        "      pipeline\n", 
        "      | 'Create inputs' >> beam.Create([10])\n", 
        "      | 'Generate elements' >> beam.ParDo(CountDoFn())\n", 
        "      | 'Inspect elements' >> beam.Map(logging.warning)\n", 
        "  )\n", 
        "```\n", 
        "\n", 
        "We can also wrap the `ParDo` into a `PTransform` to have a nicer `Source` interface."
      ], 
      "cell_type": "markdown", 
      "metadata": {
        "colab_type": "text", 
        "id": "6DA8UtDDtQ88"
      }
    }, 
    {
      "source": [
        "class Count(beam.PTransform):\n", 
        "  def __init__(self, n):\n", 
        "    self.n = n\n", 
        "\n", 
        "  def expand(self, pcollection):\n", 
        "    return (\n", 
        "      pcollection\n", 
        "      | 'Create N' >> beam.Create([self.n])\n", 
        "      | 'Generate elements' >> beam.ParDo(count)\n", 
        "    )\n", 
        "\n", 
        "# Running locally in the DirectRunner.\n", 
        "with beam.Pipeline() as pipeline:\n", 
        "  (\n", 
        "      pipeline\n", 
        "      | 'Count' >> Count(10)\n", 
        "      | 'Inspect elements' >> beam.Map(logging.warning)\n", 
        "  )"
      ], 
      "cell_type": "code", 
      "execution_count": 0, 
      "outputs": [
        {
          "output_type": "stream", 
          "name": "stderr", 
          "text": [
            "WARNING:root:0\n", 
            "WARNING:root:1\n", 
            "WARNING:root:2\n", 
            "WARNING:root:3\n", 
            "WARNING:root:4\n", 
            "WARNING:root:5\n", 
            "WARNING:root:6\n", 
            "WARNING:root:7\n", 
            "WARNING:root:8\n", 
            "WARNING:root:9\n"
          ]
        }
      ], 
      "metadata": {
        "outputId": "6e77b5e5-7368-4d4b-a636-a6764576372c", 
        "colab_type": "code", 
        "id": "P9TN-fi3pMNP", 
        "colab": {
          "base_uri": "https://localhost:8080/", 
          "height": 187
        }
      }
    }, 
    {
      "source": [
        "# Example 2: Range generator\n", 
        "\n", 
        "Now let's see how we can implement a `range` generator.\n", 
        "\n", 
        "We create multiple input ranges that go into a `PCollection`. The `beam.ParDo` transforms could be executed in parallel, even if each generator for every input is run sequentially. The long chain of inputs are generated in batches that run in parallel."
      ], 
      "cell_type": "markdown", 
      "metadata": {
        "colab_type": "text", 
        "id": "JT1yz26P7nXh"
      }
    }, 
    {
      "source": [
        "import apache_beam as beam\n", 
        "import logging\n", 
        "\n", 
        "def generate_range(start_stop_step):\n", 
        "  start, stop, step = start_stop_step\n", 
        "  for i in range(start, stop, step):\n", 
        "    yield i\n", 
        "\n", 
        "# Running locally in the DirectRunner.\n", 
        "with beam.Pipeline() as pipeline:\n", 
        "  (\n", 
        "      pipeline\n", 
        "      | 'Create inputs' >> beam.Create([\n", 
        "          (0, 5, 1),\n", 
        "          (0, 50, 10),\n", 
        "          (0, 500, 100),\n", 
        "      ])\n", 
        "      | 'Generate elements' >> beam.ParDo(generate_range)\n", 
        "      | 'Inspect elements' >> beam.Map(logging.warning)\n", 
        "  )"
      ], 
      "cell_type": "code", 
      "execution_count": 0, 
      "outputs": [
        {
          "output_type": "stream", 
          "name": "stderr", 
          "text": [
            "WARNING:root:0\n", 
            "WARNING:root:1\n", 
            "WARNING:root:2\n", 
            "WARNING:root:3\n", 
            "WARNING:root:4\n", 
            "WARNING:root:0\n", 
            "WARNING:root:10\n", 
            "WARNING:root:20\n", 
            "WARNING:root:30\n", 
            "WARNING:root:40\n", 
            "WARNING:root:0\n", 
            "WARNING:root:100\n", 
            "WARNING:root:200\n", 
            "WARNING:root:300\n", 
            "WARNING:root:400\n"
          ]
        }
      ], 
      "metadata": {
        "outputId": "a93b3388-0bb4-4944-c362-3d523e4bf1a8", 
        "colab_type": "code", 
        "id": "S0bDi3qU8VBA", 
        "colab": {
          "base_uri": "https://localhost:8080/", 
          "height": 272
        }
      }
    }, 
    {
      "source": [
        "# Example 3: Reading lines from files\n", 
        "\n", 
        "Apache Beam already has the function `beam.io.ReadAllFromText()` that reads lines from files, but the following example shows you how to implement a simple version of this function from scratch.\n", 
        "\n", 
        "First, let's create some text files for our example."
      ], 
      "cell_type": "markdown", 
      "metadata": {
        "colab_type": "text", 
        "id": "c0LM_2_C_hyk"
      }
    }, 
    {
      "source": [
        "run('mkdir -p data1 data2')"
      ], 
      "cell_type": "code", 
      "execution_count": 0, 
      "outputs": [
        {
          "output_type": "stream", 
          "name": "stdout", 
          "text": [
            ">> mkdir -p data1 data2\n", 
            "\n"
          ]
        }
      ], 
      "metadata": {
        "outputId": "8587741c-2f6d-4490-b928-12411b1dccdf", 
        "colab_type": "code", 
        "id": "y8RjQETpAWqC", 
        "colab": {
          "base_uri": "https://localhost:8080/", 
          "height": 51
        }
      }
    }, 
    {
      "source": [
        "%%writefile data1/sample.txt\n", 
        "Hello from Apache Beam!\n", 
        "Each line is a different element.\n", 
        "csv,rows,must,span,one,line,per,element\n", 
        "{'json': 'elements', 'should': 'also', 'be': 1, 'line': '.'}"
      ], 
      "cell_type": "code", 
      "execution_count": 0, 
      "outputs": [
        {
          "output_type": "stream", 
          "name": "stdout", 
          "text": [
            "Writing data1/sample.txt\n"
          ]
        }
      ], 
      "metadata": {
        "outputId": "84070aeb-7345-4a1f-e4ca-80209f77e95f", 
        "colab_type": "code", 
        "id": "E0FPbK7Z_-2M", 
        "colab": {
          "base_uri": "https://localhost:8080/", 
          "height": 34
        }
      }
    }, 
    {
      "source": [
        "%%writefile data1/emojis.txt\n", 
        "UTF-8 files are also supported!\n", 
        "(*\u30fb\u203f\u30fb)\u30ce\u2312*:\uff65\uff9f\u2727\n", 
        "(\uff89\u25d5\u30ee\u25d5)\uff89*:\u30fb\uff9f\u2727\n", 
        "(\uff89\u2609\u30ee\u2686)\uff89 \u2312*:\uff65\uff9f\u2727\n", 
        "\u203b\\(^o^)/\u203b"
      ], 
      "cell_type": "code", 
      "execution_count": 0, 
      "outputs": [
        {
          "output_type": "stream", 
          "name": "stdout", 
          "text": [
            "Writing data1/emojis.txt\n"
          ]
        }
      ], 
      "metadata": {
        "outputId": "ea029d7f-d15c-4461-fc55-f75bc8f26293", 
        "colab_type": "code", 
        "id": "pyu6MF8aAWPi", 
        "colab": {
          "base_uri": "https://localhost:8080/", 
          "height": 34
        }
      }
    }, 
    {
      "source": [
        "%%writefile data2/more-data.txt\n", 
        "Hello from another directory!\n", 
        "\u0e05^\u2022\ufecc\u2022^\u0e05"
      ], 
      "cell_type": "code", 
      "execution_count": 0, 
      "outputs": [
        {
          "output_type": "stream", 
          "name": "stdout", 
          "text": [
            "Writing data2/more-data.txt\n"
          ]
        }
      ], 
      "metadata": {
        "outputId": "75d42683-cb27-410f-9d05-f288a4a60e5b", 
        "colab_type": "code", 
        "id": "WGHFHp-kAjEs", 
        "colab": {
          "base_uri": "https://localhost:8080/", 
          "height": 34
        }
      }
    }, 
    {
      "source": [
        "To read the lines from these files, we do the following:\n", 
        "\n", 
        "1. Create a PCollection of the input file patterns.\n", 
        "1. Expand these file patterns into a list of all the files that match the pattern using the [`glob`](https://docs.python.org/2/library/glob.html) module.\n", 
        "1. Use `beam.FlatMap` for the glob transform to get a single filename per element instead of a list of filenames.\n", 
        "1. Use `beam.ParDo` on the function `read_lines` on every filename, which yields each line as an individual element.\n", 
        "\n", 
        "Each file is read sequentially, but all files could be processed in parallel."
      ], 
      "cell_type": "markdown", 
      "metadata": {
        "colab_type": "text", 
        "id": "B30DuV_UNyOk"
      }
    }, 
    {
      "source": [
        "import apache_beam as beam\n", 
        "import logging\n", 
        "import glob\n", 
        "\n", 
        "def read_lines(filename):\n", 
        "  with open(filename) as f:\n", 
        "    for line in f:\n", 
        "      yield line.strip()\n", 
        "\n", 
        "# Running locally in the DirectRunner.\n", 
        "with beam.Pipeline() as pipeline:\n", 
        "  (\n", 
        "      pipeline\n", 
        "      | 'Create inputs' >> beam.Create([\n", 
        "          'data1/*.txt',\n", 
        "          'data2/*.txt',\n", 
        "        ])\n", 
        "      | 'Expand file patterns' >> beam.FlatMap(glob.glob)\n", 
        "      | 'Read lines' >> beam.ParDo(read_lines)\n", 
        "      | 'Inspect elements' >> beam.Map(logging.warning)\n", 
        "  )"
      ], 
      "cell_type": "code", 
      "execution_count": 0, 
      "outputs": [
        {
          "output_type": "stream", 
          "name": "stderr", 
          "text": [
            "WARNING:root:Hello from Apache Beam!\n", 
            "WARNING:root:Each line is a different element.\n", 
            "WARNING:root:csv,rows,must,span,one,line,per,element\n", 
            "WARNING:root:{'json': 'elements', 'should': 'also', 'be': 1, 'line': '.'}\n", 
            "WARNING:root:UTF-8 files are also supported!\n", 
            "WARNING:root:(*\u30fb\u203f\u30fb)\u30ce\u2312*:\uff65\uff9f\u2727\n", 
            "WARNING:root:(\uff89\u25d5\u30ee\u25d5)\uff89*:\u30fb\uff9f\u2727\n", 
            "WARNING:root:(\uff89\u2609\u30ee\u2686)\uff89 \u2312*:\uff65\uff9f\u2727\n", 
            "WARNING:root:\u203b\\(^o^)/\u203b\n", 
            "WARNING:root:Hello from another directory!\n", 
            "WARNING:root:\u0e05^\u2022\ufecc\u2022^\u0e05\n"
          ]
        }
      ], 
      "metadata": {
        "outputId": "9ac6070e-5bcd-4f37-d233-3a72e472157d", 
        "colab_type": "code", 
        "id": "Nae_BbA5_o2K", 
        "colab": {
          "base_uri": "https://localhost:8080/", 
          "height": 204
        }
      }
    }, 
    {
      "source": [
        "# Example 4: Reading from a SQLite database\n", 
        "In this example, we set up a simple SQLite database with sample data and read it from Apache Beam.\n", 
        "\n", 
        "For the sample data, we'll take some rows from the `bigquery-public-data.moon_phases.moon_phases` [BigQuery Public Dataset](https://cloud.google.com/bigquery/public-data/)."
      ], 
      "cell_type": "markdown", 
      "metadata": {
        "colab_type": "text", 
        "id": "HXgE2jNfQYuE"
      }
    }, 
    {
      "source": [
        "import sqlite3\n", 
        "\n", 
        "with sqlite3.connect('moon-phases.db') as db:\n", 
        "  cursor = db.cursor()\n", 
        "\n", 
        "  # Create the moon_phases table.\n", 
        "  cursor.execute('''\n", 
        "    CREATE TABLE IF NOT EXISTS moon_phases (\n", 
        "      id INTEGER PRIMARY KEY,\n", 
        "      phase_emoji TEXT NOT NULL,\n", 
        "      peak_datetime DATETIME NOT NULL,\n", 
        "      phase TEXT NOT NULL\n", 
        "    )\n", 
        "  ''')\n", 
        "\n", 
        "  # Truncate the table if it's already populated.\n", 
        "  cursor.execute('DELETE FROM moon_phases')\n", 
        "\n", 
        "  # Insert some sample data.\n", 
        "  insert_moon_phase = '''\n", 
        "    INSERT INTO moon_phases(phase_emoji, peak_datetime, phase)\n", 
        "    VALUES(?, ?, ?)\n", 
        "  '''\n", 
        "  cursor.execute(insert_moon_phase, (u'\ud83c\udf15', '2017-12-03 15:47:00', 'Full Moon'))\n", 
        "  cursor.execute(insert_moon_phase, (u'\ud83c\udf17', '2017-12-10 07:51:00', 'Last Quarter'))\n", 
        "  cursor.execute(insert_moon_phase, (u'\ud83c\udf11', '2017-12-18 06:30:00', 'New Moon'))\n", 
        "  cursor.execute(insert_moon_phase, (u'\ud83c\udf13', '2017-12-26 09:20:00', 'First Quarter'))\n", 
        "  cursor.execute(insert_moon_phase, (u'\ud83c\udf15', '2018-01-02 02:24:00', 'Full Moon'))\n", 
        "  cursor.execute(insert_moon_phase, (u'\ud83c\udf17', '2018-01-08 22:25:00', 'Last Quarter'))\n", 
        "  cursor.execute(insert_moon_phase, (u'\ud83c\udf11', '2018-01-17 02:17:00', 'New Moon'))\n", 
        "  cursor.execute(insert_moon_phase, (u'\ud83c\udf13', '2018-01-24 22:20:00', 'First Quarter'))\n", 
        "  cursor.execute(insert_moon_phase, (u'\ud83c\udf15', '2018-01-31 13:27:00', 'Full Moon'))\n", 
        "\n", 
        "  # Query for the data in the table to make sure it's populated.\n", 
        "  cursor.execute('SELECT phase_emoji, peak_datetime, phase FROM moon_phases')\n", 
        "  for row in cursor.fetchall():\n", 
        "    print(u'{} {} {}'.format(row[0], row[1], row[2]))"
      ], 
      "cell_type": "code", 
      "execution_count": 0, 
      "outputs": [
        {
          "output_type": "stream", 
          "name": "stdout", 
          "text": [
            "\ud83c\udf15 2017-12-03 15:47:00 Full Moon\n", 
            "\ud83c\udf17 2017-12-10 07:51:00 Last Quarter\n", 
            "\ud83c\udf11 2017-12-18 06:30:00 New Moon\n", 
            "\ud83c\udf13 2017-12-26 09:20:00 First Quarter\n", 
            "\ud83c\udf15 2018-01-02 02:24:00 Full Moon\n", 
            "\ud83c\udf17 2018-01-08 22:25:00 Last Quarter\n", 
            "\ud83c\udf11 2018-01-17 02:17:00 New Moon\n", 
            "\ud83c\udf13 2018-01-24 22:20:00 First Quarter\n", 
            "\ud83c\udf15 2018-01-31 13:27:00 Full Moon\n"
          ]
        }
      ], 
      "metadata": {
        "outputId": "6ee668a9-bc99-4ea4-972f-35fd1f236601", 
        "colab_type": "code", 
        "id": "RCr843r9QYUL", 
        "colab": {
          "base_uri": "https://localhost:8080/", 
          "height": 170
        }
      }
    }, 
    {
      "source": [
        "To read from the database, we create a function that does the following:\n", 
        "1. Connects to our database.\n", 
        "1. Performs the query.\n", 
        "1. Yields each row as a new element. \n", 
        "\n", 
        "We can pass the database filename as a [side input](https://beam.apache.org/documentation/programming-guide/#side-inputs)."
      ], 
      "cell_type": "markdown", 
      "metadata": {
        "colab_type": "text", 
        "id": "SrerM94cg3zF"
      }
    }, 
    {
      "source": [
        "import apache_beam as beam\n", 
        "import logging\n", 
        "import sqlite3\n", 
        "\n", 
        "def sqlite_select(query, database_file):\n", 
        "  with sqlite3.connect(database_file) as db:\n", 
        "    cursor = db.cursor()\n", 
        "    cursor.execute(query)\n", 
        "    for row in cursor.fetchall():\n", 
        "      yield row\n", 
        "\n", 
        "# Running locally in the DirectRunner.\n", 
        "with beam.Pipeline() as pipeline:\n", 
        "  (\n", 
        "      pipeline\n", 
        "      | 'Create inputs' >> beam.Create([\n", 
        "          'SELECT phase_emoji, peak_datetime, phase FROM moon_phases',\n", 
        "        ])\n", 
        "      | 'Select from SQLite' >> beam.ParDo(sqlite_select, 'moon-phases.db')\n", 
        "      | 'Format rows' >> beam.Map(\n", 
        "          lambda row: u'{} {} {}'.format(row[0], row[1], row[2]))\n", 
        "      | 'Inspect row' >> beam.Map(logging.warning)\n", 
        "  )"
      ], 
      "cell_type": "code", 
      "execution_count": 0, 
      "outputs": [
        {
          "output_type": "stream", 
          "name": "stderr", 
          "text": [
            "WARNING:root:\ud83c\udf15 2017-12-03 15:47:00 Full Moon\n", 
            "WARNING:root:\ud83c\udf17 2017-12-10 07:51:00 Last Quarter\n", 
            "WARNING:root:\ud83c\udf11 2017-12-18 06:30:00 New Moon\n", 
            "WARNING:root:\ud83c\udf13 2017-12-26 09:20:00 First Quarter\n", 
            "WARNING:root:\ud83c\udf15 2018-01-02 02:24:00 Full Moon\n", 
            "WARNING:root:\ud83c\udf17 2018-01-08 22:25:00 Last Quarter\n", 
            "WARNING:root:\ud83c\udf11 2018-01-17 02:17:00 New Moon\n", 
            "WARNING:root:\ud83c\udf13 2018-01-24 22:20:00 First Quarter\n", 
            "WARNING:root:\ud83c\udf15 2018-01-31 13:27:00 Full Moon\n"
          ]
        }
      ], 
      "metadata": {
        "outputId": "17717890-73da-4e2b-ec08-3a876d87ab21", 
        "colab_type": "code", 
        "id": "BjBk9I4DhVv9", 
        "colab": {
          "base_uri": "https://localhost:8080/", 
          "height": 170
        }
      }
    }, 
    {
      "source": [
        "We can also wrap this process up into a `PTransform` to have a nicer `Source` interface."
      ], 
      "cell_type": "markdown", 
      "metadata": {
        "colab_type": "text", 
        "id": "z5AthzKqof-s"
      }
    }, 
    {
      "source": [
        "class ReadFromSQLite(beam.PTransform):\n", 
        "  def __init__(self, database_file, query):\n", 
        "    self.database_file = database_file\n", 
        "    self.query = query\n", 
        "\n", 
        "  def expand(self, pcollection):\n", 
        "    return (\n", 
        "      pcollection\n", 
        "      | 'Create query' >> beam.Create([self.query])\n", 
        "      | 'Execute query' >> beam.ParDo(sqlite_select, self.database_file)\n", 
        "    )\n", 
        "\n", 
        "# Running locally in the DirectRunner.\n", 
        "with beam.Pipeline() as pipeline:\n", 
        "  (\n", 
        "      pipeline\n", 
        "      | 'Read from SQLite' >> ReadFromSQLite(\n", 
        "          'moon-phases.db',\n", 
        "          'SELECT phase_emoji, peak_datetime, phase FROM moon_phases',\n", 
        "        )\n", 
        "      | 'Format rows' >> beam.Map(\n", 
        "          lambda row: u'{} {} {}'.format(row[0], row[1], row[2]))\n", 
        "      | 'Inspect row' >> beam.Map(logging.warning)\n", 
        "  )"
      ], 
      "cell_type": "code", 
      "execution_count": 0, 
      "outputs": [
        {
          "output_type": "stream", 
          "name": "stderr", 
          "text": [
            "WARNING:root:\ud83c\udf15 2017-12-03 15:47:00 Full Moon\n", 
            "WARNING:root:\ud83c\udf17 2017-12-10 07:51:00 Last Quarter\n", 
            "WARNING:root:\ud83c\udf11 2017-12-18 06:30:00 New Moon\n", 
            "WARNING:root:\ud83c\udf13 2017-12-26 09:20:00 First Quarter\n", 
            "WARNING:root:\ud83c\udf15 2018-01-02 02:24:00 Full Moon\n", 
            "WARNING:root:\ud83c\udf17 2018-01-08 22:25:00 Last Quarter\n", 
            "WARNING:root:\ud83c\udf11 2018-01-17 02:17:00 New Moon\n", 
            "WARNING:root:\ud83c\udf13 2018-01-24 22:20:00 First Quarter\n", 
            "WARNING:root:\ud83c\udf15 2018-01-31 13:27:00 Full Moon\n"
          ]
        }
      ], 
      "metadata": {
        "outputId": "3d2d37c5-0a46-4c24-c243-4924d747bf94", 
        "colab_type": "code", 
        "id": "hqg1rr2cmpSB", 
        "colab": {
          "base_uri": "https://localhost:8080/", 
          "height": 170
        }
      }
    }, 
    {
      "source": [
        "This is the simplest approach and works best if you're processing a small number of queries, a common use case. However, this approach creates a new connection for each query and is less ideal if you need to process multiple queries.\n", 
        "\n", 
        "Another approach would be to create a `DoFn` where you can store the database connection object so that you only need to connect to the database once. Each worker has to initialize their own connection. You can't create the connection at the constructor since this might potentially be executed in parallel on multiple workers.\n", 
        "\n", 
        "We can use the `start_bundle()` and `finish_bundle()` methods to open and close the connection, respectively. These are called on each bundle of queries. Therefore, each bundle of queries will use the same connection and close it when the bundle finishes. This will create at most one connection per worker concurrently."
      ], 
      "cell_type": "markdown", 
      "metadata": {
        "colab_type": "text", 
        "id": "wlWe0KvpiPCN"
      }
    }, 
    {
      "source": [
        "import apache_beam as beam\n", 
        "import logging\n", 
        "import sqlite3\n", 
        "\n", 
        "class SQLiteSelect(beam.DoFn):\n", 
        "  def __init__(self, database_file):\n", 
        "    self.database_file = database_file\n", 
        "    self.db = None\n", 
        "\n", 
        "  def start_bundle(self):\n", 
        "    logging.warning('sqlite3 connect')\n", 
        "    self.db = sqlite3.connect(self.database_file)\n", 
        "  \n", 
        "  def finish_bundle(self):\n", 
        "    logging.warning('sqlite3 close')\n", 
        "    self.db.close()\n", 
        "\n", 
        "  def process(self, query):\n", 
        "    cursor = self.db.cursor()\n", 
        "    cursor.execute(query)\n", 
        "    for row in cursor.fetchall():\n", 
        "      yield row\n", 
        "\n", 
        "# Running locally in the DirectRunner.\n", 
        "with beam.Pipeline() as pipeline:\n", 
        "  (\n", 
        "      pipeline\n", 
        "      | 'Create inputs' >> beam.Create([\n", 
        "          'SELECT phase_emoji, peak_datetime, phase FROM moon_phases',\n", 
        "        ])\n", 
        "      | 'Select from SQLite' >> beam.ParDo(SQLiteSelect('moon-phases.db'))\n", 
        "      | 'Format rows' >> beam.Map(\n", 
        "          lambda row: u'{} {} {}'.format(row[0], row[1], row[2]))\n", 
        "      | 'Inspect row' >> beam.Map(logging.warning)\n", 
        "  )"
      ], 
      "cell_type": "code", 
      "execution_count": 0, 
      "outputs": [
        {
          "output_type": "stream", 
          "name": "stderr", 
          "text": [
            "WARNING:root:sqlite3 connect\n", 
            "WARNING:root:\ud83c\udf15 2017-12-03 15:47:00 Full Moon\n", 
            "WARNING:root:\ud83c\udf17 2017-12-10 07:51:00 Last Quarter\n", 
            "WARNING:root:\ud83c\udf11 2017-12-18 06:30:00 New Moon\n", 
            "WARNING:root:\ud83c\udf13 2017-12-26 09:20:00 First Quarter\n", 
            "WARNING:root:\ud83c\udf15 2018-01-02 02:24:00 Full Moon\n", 
            "WARNING:root:\ud83c\udf17 2018-01-08 22:25:00 Last Quarter\n", 
            "WARNING:root:\ud83c\udf11 2018-01-17 02:17:00 New Moon\n", 
            "WARNING:root:\ud83c\udf13 2018-01-24 22:20:00 First Quarter\n", 
            "WARNING:root:\ud83c\udf15 2018-01-31 13:27:00 Full Moon\n", 
            "WARNING:root:sqlite3 close\n"
          ]
        }
      ], 
      "metadata": {
        "outputId": "1480c6d4-daf6-4928-813b-c3e840903813", 
        "colab_type": "code", 
        "id": "10HbHh8pZC1S", 
        "colab": {
          "base_uri": "https://localhost:8080/", 
          "height": 204
        }
      }
    }
  ], 
  "metadata": {
    "kernelspec": {
      "display_name": "Python 2", 
      "name": "python2"
    }, 
    "colab": {
      "include_colab_link": true, 
      "name": "Custom inputs - ParDo - Apache Beam", 
      "toc_visible": true, 
      "provenance": [], 
      "collapsed_sections": [], 
      "version": "0.3.2"
    }
  }, 
  "nbformat_minor": 0
}