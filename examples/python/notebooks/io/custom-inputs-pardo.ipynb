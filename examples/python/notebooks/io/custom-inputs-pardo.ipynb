{
  "nbformat": 4,
  "nbformat_minor": 0,
  "metadata": {
    "colab": {
      "name": "Custom Inputs - ParDo - Apache Beam",
      "version": "0.3.2",
      "provenance": [],
      "collapsed_sections": [],
      "toc_visible": true
    },
    "kernelspec": {
      "name": "python2",
      "display_name": "Python 2"
    }
  },
  "cells": [
    {
      "metadata": {
        "id": "wAFLwhVkcs_S",
        "colab_type": "text"
      },
      "cell_type": "markdown",
      "source": [
        "# Custom inputs - ParDo\n",
        "\n",
        "`ParDo` is the recommended way to implement a source, since using the `Source` interface can be tricky.\n",
        "\n",
        "To learn more on *when* to use a `Source`, see the [When to use the Source interface\n",
        "](https://beam.apache.org/documentation/io/developing-io-overview/index.html#when-to-use-source) page.\n",
        "\n",
        "To learn more *about* `BoundedSource`, see [Custom Inputs - BoundedSource](https://colab.research.google.com/drive/1GLFB4adNS1oifRklCmyF4MFRQuea6MaV)."
      ]
    },
    {
      "metadata": {
        "id": "DOf-0hdvbH2R",
        "colab_type": "text"
      },
      "cell_type": "markdown",
      "source": [
        "# Setup\n",
        "\n",
        "First, let's install `apache-beam`."
      ]
    },
    {
      "metadata": {
        "id": "IvkH2xq_Fi-U",
        "colab_type": "code",
        "outputId": "b46abdcd-5116-475c-927d-632b5df2bafa",
        "colab": {
          "base_uri": "https://localhost:8080/",
          "height": 51
        }
      },
      "cell_type": "code",
      "source": [
        "# Run and print a shell command.\n",
        "def run(cmd):\n",
        "  print('>> {}'.format(cmd))\n",
        "  !{cmd}\n",
        "  print('')\n",
        "\n",
        "# Install apache-beam.\n",
        "run('pip install --quiet apache-beam')"
      ],
      "execution_count": 2,
      "outputs": [
        {
          "output_type": "stream",
          "text": [
            ">> pip install --quiet apache-beam\n",
            "\n"
          ],
          "name": "stdout"
        }
      ]
    },
    {
      "metadata": {
        "id": "FrlHKJAe0DHP",
        "colab_type": "text"
      },
      "cell_type": "markdown",
      "source": [
        "# Example 1: Count generator\n",
        "\n",
        "We do the following in this example:\n",
        "1. Create a generator function.\n",
        "1. Iterate over it the generator. \n",
        "1. Apply the function using `ParDo`.\n",
        "\n",
        "Firest, we create a generator that accepts a single input and yields zero or more elements. Notice that we use the `yield` keyword instead of `return` so that the generator resumes execution. For now, this is a simple wrapper over the `range` built-in function.\n",
        "\n",
        "To learn more about generators, see the [Generators](https://docs.python.org/2/tutorial/classes.html#generators) page."
      ]
    },
    {
      "metadata": {
        "id": "prEHrDg50Cgq",
        "colab_type": "code",
        "colab": {}
      },
      "cell_type": "code",
      "source": [
        "def count(n):\n",
        "  for i in range(n):\n",
        "    yield i"
      ],
      "execution_count": 0,
      "outputs": []
    },
    {
      "metadata": {
        "id": "jlbjLFeT3zJu",
        "colab_type": "text"
      },
      "cell_type": "markdown",
      "source": [
        "In Python, we can iterate over a generator using a `for` loop."
      ]
    },
    {
      "metadata": {
        "id": "W_Rtr-YF2zgF",
        "colab_type": "code",
        "outputId": "c23f6363-6da0-4898-a3b1-59caee4b86d4",
        "colab": {
          "base_uri": "https://localhost:8080/",
          "height": 187
        }
      },
      "cell_type": "code",
      "source": [
        "# Here's how we iterate over a generator.\n",
        "for i in count(10):\n",
        "  print(i)"
      ],
      "execution_count": 4,
      "outputs": [
        {
          "output_type": "stream",
          "text": [
            "0\n",
            "1\n",
            "2\n",
            "3\n",
            "4\n",
            "5\n",
            "6\n",
            "7\n",
            "8\n",
            "9\n"
          ],
          "name": "stdout"
        }
      ]
    },
    {
      "metadata": {
        "id": "i54k8LWP6dfy",
        "colab_type": "text"
      },
      "cell_type": "markdown",
      "source": [
        "In Apache Beam, we must create our inputs before we apply the generator function. In this case, we use the `Create` function with our `n` value as the input. The input of `beam.Create` must be an iterable, and since we only need a single `n` we'll use a list with a single value. \n",
        "\n",
        "After we generate our input, we can apply our generator function using the `beam.ParDo` transform. This will take our input values and generate elements.\n",
        "\n",
        "Finally, we inspect the elements to see what's inside our `PCollection`. Remember that there are no ordering guarantees in the `PCollection`, unlike in the `for` loop iteration."
      ]
    },
    {
      "metadata": {
        "id": "WJd4YPMPM4ty",
        "colab_type": "code",
        "outputId": "0ff35f23-cab4-41b5-9dfc-55a5aba1aa4a",
        "colab": {
          "base_uri": "https://localhost:8080/",
          "height": 187
        }
      },
      "cell_type": "code",
      "source": [
        "import apache_beam as beam\n",
        "import logging\n",
        "\n",
        "# Running locally in the DirectRunner.\n",
        "with beam.Pipeline() as pipeline:\n",
        "  (\n",
        "      pipeline\n",
        "      | 'Create inputs' >> beam.Create([10])\n",
        "      | 'Generate elements' >> beam.ParDo(count)\n",
        "      | 'Inspect elements' >> beam.Map(logging.warning)\n",
        "  )"
      ],
      "execution_count": 5,
      "outputs": [
        {
          "output_type": "stream",
          "text": [
            "WARNING:root:0\n",
            "WARNING:root:1\n",
            "WARNING:root:2\n",
            "WARNING:root:3\n",
            "WARNING:root:4\n",
            "WARNING:root:5\n",
            "WARNING:root:6\n",
            "WARNING:root:7\n",
            "WARNING:root:8\n",
            "WARNING:root:9\n"
          ],
          "name": "stderr"
        }
      ]
    },
    {
      "metadata": {
        "id": "6DA8UtDDtQ88",
        "colab_type": "text"
      },
      "cell_type": "markdown",
      "source": [
        "Note that we can pass in a generator to `beam.ParDo`, although it should only work with a `beam.DoFn`. Internally, if `beam.ParDo` receives a `callable`, it will automatically create a `beam.DoFn` and implement its `process()` method for us. It is roughly equivalent to the following:\n",
        "\n",
        "```python\n",
        "class CountDoFn(beam.DoFn):\n",
        "  def __init__(self):\n",
        "    self.process = count\n",
        "\n",
        "with beam.Pipeline() as pipeline:\n",
        "  (\n",
        "      pipeline\n",
        "      | 'Create inputs' >> beam.Create([10])\n",
        "      | 'Generate elements' >> beam.ParDo(CountDoFn())\n",
        "      | 'Inspect elements' >> beam.Map(logging.warning)\n",
        "  )\n",
        "```\n",
        "\n",
        "We can also wrap the `ParDo` into a `PTransform` to have a nicer `Source` interface."
      ]
    },
    {
      "metadata": {
        "id": "P9TN-fi3pMNP",
        "colab_type": "code",
        "outputId": "6e77b5e5-7368-4d4b-a636-a6764576372c",
        "colab": {
          "base_uri": "https://localhost:8080/",
          "height": 187
        }
      },
      "cell_type": "code",
      "source": [
        "class Count(beam.PTransform):\n",
        "  def __init__(self, n):\n",
        "    self.n = n\n",
        "\n",
        "  def expand(self, pcollection):\n",
        "    return (\n",
        "      pcollection\n",
        "      | 'Create N' >> beam.Create([self.n])\n",
        "      | 'Generate elements' >> beam.ParDo(count)\n",
        "    )\n",
        "\n",
        "# Running locally in the DirectRunner.\n",
        "with beam.Pipeline() as pipeline:\n",
        "  (\n",
        "      pipeline\n",
        "      | 'Count' >> Count(10)\n",
        "      | 'Inspect elements' >> beam.Map(logging.warning)\n",
        "  )"
      ],
      "execution_count": 6,
      "outputs": [
        {
          "output_type": "stream",
          "text": [
            "WARNING:root:0\n",
            "WARNING:root:1\n",
            "WARNING:root:2\n",
            "WARNING:root:3\n",
            "WARNING:root:4\n",
            "WARNING:root:5\n",
            "WARNING:root:6\n",
            "WARNING:root:7\n",
            "WARNING:root:8\n",
            "WARNING:root:9\n"
          ],
          "name": "stderr"
        }
      ]
    },
    {
      "metadata": {
        "id": "JT1yz26P7nXh",
        "colab_type": "text"
      },
      "cell_type": "markdown",
      "source": [
        "# Example 2: Range generator\n",
        "\n",
        "Now let's see how we can implement a `range` generator.\n",
        "\n",
        "We create multiple input ranges that go into a `PCollection`. The `beam.ParDo` transforms could be executed in parallel, even if each generator for every input is run sequentially. The long chain of inputs are generated in batches that run in parallel."
      ]
    },
    {
      "metadata": {
        "id": "S0bDi3qU8VBA",
        "colab_type": "code",
        "outputId": "a93b3388-0bb4-4944-c362-3d523e4bf1a8",
        "colab": {
          "base_uri": "https://localhost:8080/",
          "height": 272
        }
      },
      "cell_type": "code",
      "source": [
        "import apache_beam as beam\n",
        "import logging\n",
        "\n",
        "def generate_range(start_stop_step):\n",
        "  start, stop, step = start_stop_step\n",
        "  for i in range(start, stop, step):\n",
        "    yield i\n",
        "\n",
        "# Running locally in the DirectRunner.\n",
        "with beam.Pipeline() as pipeline:\n",
        "  (\n",
        "      pipeline\n",
        "      | 'Create inputs' >> beam.Create([\n",
        "          (0, 5, 1),\n",
        "          (0, 50, 10),\n",
        "          (0, 500, 100),\n",
        "      ])\n",
        "      | 'Generate elements' >> beam.ParDo(generate_range)\n",
        "      | 'Inspect elements' >> beam.Map(logging.warning)\n",
        "  )"
      ],
      "execution_count": 7,
      "outputs": [
        {
          "output_type": "stream",
          "text": [
            "WARNING:root:0\n",
            "WARNING:root:1\n",
            "WARNING:root:2\n",
            "WARNING:root:3\n",
            "WARNING:root:4\n",
            "WARNING:root:0\n",
            "WARNING:root:10\n",
            "WARNING:root:20\n",
            "WARNING:root:30\n",
            "WARNING:root:40\n",
            "WARNING:root:0\n",
            "WARNING:root:100\n",
            "WARNING:root:200\n",
            "WARNING:root:300\n",
            "WARNING:root:400\n"
          ],
          "name": "stderr"
        }
      ]
    },
    {
      "metadata": {
        "id": "c0LM_2_C_hyk",
        "colab_type": "text"
      },
      "cell_type": "markdown",
      "source": [
        "# Example 3: Reading lines from files\n",
        "\n",
        "Apache Beam already has the function `beam.io.ReadAllFromText()` that reads lines from files, but the following example shows you how to implement a simple version of this function from scratch.\n",
        "\n",
        "First, let's create some text files for our example."
      ]
    },
    {
      "metadata": {
        "id": "y8RjQETpAWqC",
        "colab_type": "code",
        "outputId": "8587741c-2f6d-4490-b928-12411b1dccdf",
        "colab": {
          "base_uri": "https://localhost:8080/",
          "height": 51
        }
      },
      "cell_type": "code",
      "source": [
        "run('mkdir -p data1 data2')"
      ],
      "execution_count": 8,
      "outputs": [
        {
          "output_type": "stream",
          "text": [
            ">> mkdir -p data1 data2\n",
            "\n"
          ],
          "name": "stdout"
        }
      ]
    },
    {
      "metadata": {
        "id": "E0FPbK7Z_-2M",
        "colab_type": "code",
        "outputId": "84070aeb-7345-4a1f-e4ca-80209f77e95f",
        "colab": {
          "base_uri": "https://localhost:8080/",
          "height": 34
        }
      },
      "cell_type": "code",
      "source": [
        "%%writefile data1/sample.txt\n",
        "Hello from Apache Beam!\n",
        "Each line is a different element.\n",
        "csv,rows,must,span,one,line,per,element\n",
        "{'json': 'elements', 'should': 'also', 'be': 1, 'line': '.'}"
      ],
      "execution_count": 9,
      "outputs": [
        {
          "output_type": "stream",
          "text": [
            "Writing data1/sample.txt\n"
          ],
          "name": "stdout"
        }
      ]
    },
    {
      "metadata": {
        "id": "pyu6MF8aAWPi",
        "colab_type": "code",
        "outputId": "ea029d7f-d15c-4461-fc55-f75bc8f26293",
        "colab": {
          "base_uri": "https://localhost:8080/",
          "height": 34
        }
      },
      "cell_type": "code",
      "source": [
        "%%writefile data1/emojis.txt\n",
        "UTF-8 files are also supported!\n",
        "(*・‿・)ノ⌒*:･ﾟ✧\n",
        "(ﾉ◕ヮ◕)ﾉ*:・ﾟ✧\n",
        "(ﾉ☉ヮ⚆)ﾉ ⌒*:･ﾟ✧\n",
        "※\\(^o^)/※"
      ],
      "execution_count": 10,
      "outputs": [
        {
          "output_type": "stream",
          "text": [
            "Writing data1/emojis.txt\n"
          ],
          "name": "stdout"
        }
      ]
    },
    {
      "metadata": {
        "id": "WGHFHp-kAjEs",
        "colab_type": "code",
        "outputId": "75d42683-cb27-410f-9d05-f288a4a60e5b",
        "colab": {
          "base_uri": "https://localhost:8080/",
          "height": 34
        }
      },
      "cell_type": "code",
      "source": [
        "%%writefile data2/more-data.txt\n",
        "Hello from another directory!\n",
        "ฅ^•ﻌ•^ฅ"
      ],
      "execution_count": 11,
      "outputs": [
        {
          "output_type": "stream",
          "text": [
            "Writing data2/more-data.txt\n"
          ],
          "name": "stdout"
        }
      ]
    },
    {
      "metadata": {
        "id": "B30DuV_UNyOk",
        "colab_type": "text"
      },
      "cell_type": "markdown",
      "source": [
        "To read the lines from these files, we do the following:\n",
        "\n",
        "1. Create a PCollection of the input file patterns.\n",
        "1. Expand these file patterns into a list of all the files that match the pattern using the [`glob`](https://docs.python.org/2/library/glob.html) module.\n",
        "1. Use `beam.FlatMap` for the glob transform to get a single filename per element instead of a list of filenames.\n",
        "1. Use `beam.ParDo` on the function `read_lines` on every filename, which yields each line as an individual element.\n",
        "\n",
        "Each file is read sequentially, but all files could be processed in parallel."
      ]
    },
    {
      "metadata": {
        "id": "Nae_BbA5_o2K",
        "colab_type": "code",
        "outputId": "9ac6070e-5bcd-4f37-d233-3a72e472157d",
        "colab": {
          "base_uri": "https://localhost:8080/",
          "height": 204
        }
      },
      "cell_type": "code",
      "source": [
        "import apache_beam as beam\n",
        "import logging\n",
        "import glob\n",
        "\n",
        "def read_lines(filename):\n",
        "  with open(filename) as f:\n",
        "    for line in f:\n",
        "      yield line.strip()\n",
        "\n",
        "# Running locally in the DirectRunner.\n",
        "with beam.Pipeline() as pipeline:\n",
        "  (\n",
        "      pipeline\n",
        "      | 'Create inputs' >> beam.Create([\n",
        "          'data1/*.txt',\n",
        "          'data2/*.txt',\n",
        "        ])\n",
        "      | 'Expand file patterns' >> beam.FlatMap(glob.glob)\n",
        "      | 'Read lines' >> beam.ParDo(read_lines)\n",
        "      | 'Inspect elements' >> beam.Map(logging.warning)\n",
        "  )"
      ],
      "execution_count": 12,
      "outputs": [
        {
          "output_type": "stream",
          "text": [
            "WARNING:root:Hello from Apache Beam!\n",
            "WARNING:root:Each line is a different element.\n",
            "WARNING:root:csv,rows,must,span,one,line,per,element\n",
            "WARNING:root:{'json': 'elements', 'should': 'also', 'be': 1, 'line': '.'}\n",
            "WARNING:root:UTF-8 files are also supported!\n",
            "WARNING:root:(*・‿・)ノ⌒*:･ﾟ✧\n",
            "WARNING:root:(ﾉ◕ヮ◕)ﾉ*:・ﾟ✧\n",
            "WARNING:root:(ﾉ☉ヮ⚆)ﾉ ⌒*:･ﾟ✧\n",
            "WARNING:root:※\\(^o^)/※\n",
            "WARNING:root:Hello from another directory!\n",
            "WARNING:root:ฅ^•ﻌ•^ฅ\n"
          ],
          "name": "stderr"
        }
      ]
    },
    {
      "metadata": {
        "id": "HXgE2jNfQYuE",
        "colab_type": "text"
      },
      "cell_type": "markdown",
      "source": [
        "# Example 4: Reading from a SQLite database\n",
        "In this example, we set up a simple SQLite database with sample data and read it from Apache Beam.\n",
        "\n",
        "For the sample data, we'll take some rows from the `bigquery-public-data.moon_phases.moon_phases` [BigQuery Public Dataset](https://cloud.google.com/bigquery/public-data/)."
      ]
    },
    {
      "metadata": {
        "id": "RCr843r9QYUL",
        "colab_type": "code",
        "outputId": "6ee668a9-bc99-4ea4-972f-35fd1f236601",
        "colab": {
          "base_uri": "https://localhost:8080/",
          "height": 170
        }
      },
      "cell_type": "code",
      "source": [
        "import sqlite3\n",
        "\n",
        "with sqlite3.connect('moon-phases.db') as db:\n",
        "  cursor = db.cursor()\n",
        "\n",
        "  # Create the moon_phases table.\n",
        "  cursor.execute('''\n",
        "    CREATE TABLE IF NOT EXISTS moon_phases (\n",
        "      id INTEGER PRIMARY KEY,\n",
        "      phase_emoji TEXT NOT NULL,\n",
        "      peak_datetime DATETIME NOT NULL,\n",
        "      phase TEXT NOT NULL\n",
        "    )\n",
        "  ''')\n",
        "\n",
        "  # Truncate the table if it's already populated.\n",
        "  cursor.execute('DELETE FROM moon_phases')\n",
        "\n",
        "  # Insert some sample data.\n",
        "  insert_moon_phase = '''\n",
        "    INSERT INTO moon_phases(phase_emoji, peak_datetime, phase)\n",
        "    VALUES(?, ?, ?)\n",
        "  '''\n",
        "  cursor.execute(insert_moon_phase, (u'🌕', '2017-12-03 15:47:00', 'Full Moon'))\n",
        "  cursor.execute(insert_moon_phase, (u'🌗', '2017-12-10 07:51:00', 'Last Quarter'))\n",
        "  cursor.execute(insert_moon_phase, (u'🌑', '2017-12-18 06:30:00', 'New Moon'))\n",
        "  cursor.execute(insert_moon_phase, (u'🌓', '2017-12-26 09:20:00', 'First Quarter'))\n",
        "  cursor.execute(insert_moon_phase, (u'🌕', '2018-01-02 02:24:00', 'Full Moon'))\n",
        "  cursor.execute(insert_moon_phase, (u'🌗', '2018-01-08 22:25:00', 'Last Quarter'))\n",
        "  cursor.execute(insert_moon_phase, (u'🌑', '2018-01-17 02:17:00', 'New Moon'))\n",
        "  cursor.execute(insert_moon_phase, (u'🌓', '2018-01-24 22:20:00', 'First Quarter'))\n",
        "  cursor.execute(insert_moon_phase, (u'🌕', '2018-01-31 13:27:00', 'Full Moon'))\n",
        "\n",
        "  # Query for the data in the table to make sure it's populated.\n",
        "  cursor.execute('SELECT phase_emoji, peak_datetime, phase FROM moon_phases')\n",
        "  for row in cursor.fetchall():\n",
        "    print(u'{} {} {}'.format(row[0], row[1], row[2]))"
      ],
      "execution_count": 13,
      "outputs": [
        {
          "output_type": "stream",
          "text": [
            "🌕 2017-12-03 15:47:00 Full Moon\n",
            "🌗 2017-12-10 07:51:00 Last Quarter\n",
            "🌑 2017-12-18 06:30:00 New Moon\n",
            "🌓 2017-12-26 09:20:00 First Quarter\n",
            "🌕 2018-01-02 02:24:00 Full Moon\n",
            "🌗 2018-01-08 22:25:00 Last Quarter\n",
            "🌑 2018-01-17 02:17:00 New Moon\n",
            "🌓 2018-01-24 22:20:00 First Quarter\n",
            "🌕 2018-01-31 13:27:00 Full Moon\n"
          ],
          "name": "stdout"
        }
      ]
    },
    {
      "metadata": {
        "id": "SrerM94cg3zF",
        "colab_type": "text"
      },
      "cell_type": "markdown",
      "source": [
        "To read from the database, we create a function that does the following:\n",
        "1. Connects to our database.\n",
        "1. Performs the query.\n",
        "1. Yields each row as a new element. \n",
        "\n",
        "We can pass the database filename as a [side input](https://beam.apache.org/documentation/programming-guide/#side-inputs)."
      ]
    },
    {
      "metadata": {
        "id": "BjBk9I4DhVv9",
        "colab_type": "code",
        "outputId": "17717890-73da-4e2b-ec08-3a876d87ab21",
        "colab": {
          "base_uri": "https://localhost:8080/",
          "height": 170
        }
      },
      "cell_type": "code",
      "source": [
        "import apache_beam as beam\n",
        "import logging\n",
        "import sqlite3\n",
        "\n",
        "def sqlite_select(query, database_file):\n",
        "  with sqlite3.connect(database_file) as db:\n",
        "    cursor = db.cursor()\n",
        "    cursor.execute(query)\n",
        "    for row in cursor.fetchall():\n",
        "      yield row\n",
        "\n",
        "# Running locally in the DirectRunner.\n",
        "with beam.Pipeline() as pipeline:\n",
        "  (\n",
        "      pipeline\n",
        "      | 'Create inputs' >> beam.Create([\n",
        "          'SELECT phase_emoji, peak_datetime, phase FROM moon_phases',\n",
        "        ])\n",
        "      | 'Select from SQLite' >> beam.ParDo(sqlite_select, 'moon-phases.db')\n",
        "      | 'Format rows' >> beam.Map(\n",
        "          lambda row: u'{} {} {}'.format(row[0], row[1], row[2]))\n",
        "      | 'Inspect row' >> beam.Map(logging.warning)\n",
        "  )"
      ],
      "execution_count": 14,
      "outputs": [
        {
          "output_type": "stream",
          "text": [
            "WARNING:root:🌕 2017-12-03 15:47:00 Full Moon\n",
            "WARNING:root:🌗 2017-12-10 07:51:00 Last Quarter\n",
            "WARNING:root:🌑 2017-12-18 06:30:00 New Moon\n",
            "WARNING:root:🌓 2017-12-26 09:20:00 First Quarter\n",
            "WARNING:root:🌕 2018-01-02 02:24:00 Full Moon\n",
            "WARNING:root:🌗 2018-01-08 22:25:00 Last Quarter\n",
            "WARNING:root:🌑 2018-01-17 02:17:00 New Moon\n",
            "WARNING:root:🌓 2018-01-24 22:20:00 First Quarter\n",
            "WARNING:root:🌕 2018-01-31 13:27:00 Full Moon\n"
          ],
          "name": "stderr"
        }
      ]
    },
    {
      "metadata": {
        "id": "z5AthzKqof-s",
        "colab_type": "text"
      },
      "cell_type": "markdown",
      "source": [
        "We can also wrap this process up into a `PTransform` to have a nicer `Source` interface."
      ]
    },
    {
      "metadata": {
        "id": "hqg1rr2cmpSB",
        "colab_type": "code",
        "outputId": "3d2d37c5-0a46-4c24-c243-4924d747bf94",
        "colab": {
          "base_uri": "https://localhost:8080/",
          "height": 170
        }
      },
      "cell_type": "code",
      "source": [
        "class ReadFromSQLite(beam.PTransform):\n",
        "  def __init__(self, database_file, query):\n",
        "    self.database_file = database_file\n",
        "    self.query = query\n",
        "\n",
        "  def expand(self, pcollection):\n",
        "    return (\n",
        "      pcollection\n",
        "      | 'Create query' >> beam.Create([self.query])\n",
        "      | 'Execute query' >> beam.ParDo(sqlite_select, self.database_file)\n",
        "    )\n",
        "\n",
        "# Running locally in the DirectRunner.\n",
        "with beam.Pipeline() as pipeline:\n",
        "  (\n",
        "      pipeline\n",
        "      | 'Read from SQLite' >> ReadFromSQLite(\n",
        "          'moon-phases.db',\n",
        "          'SELECT phase_emoji, peak_datetime, phase FROM moon_phases',\n",
        "        )\n",
        "      | 'Format rows' >> beam.Map(\n",
        "          lambda row: u'{} {} {}'.format(row[0], row[1], row[2]))\n",
        "      | 'Inspect row' >> beam.Map(logging.warning)\n",
        "  )"
      ],
      "execution_count": 15,
      "outputs": [
        {
          "output_type": "stream",
          "text": [
            "WARNING:root:🌕 2017-12-03 15:47:00 Full Moon\n",
            "WARNING:root:🌗 2017-12-10 07:51:00 Last Quarter\n",
            "WARNING:root:🌑 2017-12-18 06:30:00 New Moon\n",
            "WARNING:root:🌓 2017-12-26 09:20:00 First Quarter\n",
            "WARNING:root:🌕 2018-01-02 02:24:00 Full Moon\n",
            "WARNING:root:🌗 2018-01-08 22:25:00 Last Quarter\n",
            "WARNING:root:🌑 2018-01-17 02:17:00 New Moon\n",
            "WARNING:root:🌓 2018-01-24 22:20:00 First Quarter\n",
            "WARNING:root:🌕 2018-01-31 13:27:00 Full Moon\n"
          ],
          "name": "stderr"
        }
      ]
    },
    {
      "metadata": {
        "id": "wlWe0KvpiPCN",
        "colab_type": "text"
      },
      "cell_type": "markdown",
      "source": [
        "This is the simplest approach and works best if you're processing a small number of queries, a common use case. However, this approach creates a new connection for each query and is less ideal if you need to process multiple queries.\n",
        "\n",
        "Another approach would be to create a `DoFn` where you can store the database connection object so that you only need to connect to the database once. Each worker has to initialize their own connection. You can't create the connection at the constructor since this might potentially be executed in parallel on multiple workers.\n",
        "\n",
        "We can use the `start_bundle()` and `finish_bundle()` methods to open and close the connection, respectively. These are called on each bundle of queries. Therefore, each bundle of queries will use the same connection and close it when the bundle finishes. This will create at most one connection per worker concurrently."
      ]
    },
    {
      "metadata": {
        "id": "10HbHh8pZC1S",
        "colab_type": "code",
        "outputId": "1480c6d4-daf6-4928-813b-c3e840903813",
        "colab": {
          "base_uri": "https://localhost:8080/",
          "height": 204
        }
      },
      "cell_type": "code",
      "source": [
        "import apache_beam as beam\n",
        "import logging\n",
        "import sqlite3\n",
        "\n",
        "class SQLiteSelect(beam.DoFn):\n",
        "  def __init__(self, database_file):\n",
        "    self.database_file = database_file\n",
        "    self.db = None\n",
        "\n",
        "  def start_bundle(self):\n",
        "    logging.warning('sqlite3 connect')\n",
        "    self.db = sqlite3.connect(self.database_file)\n",
        "  \n",
        "  def finish_bundle(self):\n",
        "    logging.warning('sqlite3 close')\n",
        "    self.db.close()\n",
        "\n",
        "  def process(self, query):\n",
        "    cursor = self.db.cursor()\n",
        "    cursor.execute(query)\n",
        "    for row in cursor.fetchall():\n",
        "      yield row\n",
        "\n",
        "# Running locally in the DirectRunner.\n",
        "with beam.Pipeline() as pipeline:\n",
        "  (\n",
        "      pipeline\n",
        "      | 'Create inputs' >> beam.Create([\n",
        "          'SELECT phase_emoji, peak_datetime, phase FROM moon_phases',\n",
        "        ])\n",
        "      | 'Select from SQLite' >> beam.ParDo(SQLiteSelect('moon-phases.db'))\n",
        "      | 'Format rows' >> beam.Map(\n",
        "          lambda row: u'{} {} {}'.format(row[0], row[1], row[2]))\n",
        "      | 'Inspect row' >> beam.Map(logging.warning)\n",
        "  )"
      ],
      "execution_count": 16,
      "outputs": [
        {
          "output_type": "stream",
          "text": [
            "WARNING:root:sqlite3 connect\n",
            "WARNING:root:🌕 2017-12-03 15:47:00 Full Moon\n",
            "WARNING:root:🌗 2017-12-10 07:51:00 Last Quarter\n",
            "WARNING:root:🌑 2017-12-18 06:30:00 New Moon\n",
            "WARNING:root:🌓 2017-12-26 09:20:00 First Quarter\n",
            "WARNING:root:🌕 2018-01-02 02:24:00 Full Moon\n",
            "WARNING:root:🌗 2018-01-08 22:25:00 Last Quarter\n",
            "WARNING:root:🌑 2018-01-17 02:17:00 New Moon\n",
            "WARNING:root:🌓 2018-01-24 22:20:00 First Quarter\n",
            "WARNING:root:🌕 2018-01-31 13:27:00 Full Moon\n",
            "WARNING:root:sqlite3 close\n"
          ],
          "name": "stderr"
        }
      ]
    }
  ]
}