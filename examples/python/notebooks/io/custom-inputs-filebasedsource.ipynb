{
  "license": [
    "Licensed to the Apache Software Foundation (ASF) under one", 
    "or more contributor license agreements.  See the NOTICE file", 
    "distributed with this work for additional information", 
    "regarding copyright ownership.  The ASF licenses this file", 
    "to you under the Apache License, Version 2.0 (the", 
    "\"License\"); you may not use this file except in compliance", 
    "with the License.  You may obtain a copy of the License at", 
    "", 
    "  http://www.apache.org/licenses/LICENSE-2.0", 
    "", 
    "Unless required by applicable law or agreed to in writing,", 
    "software distributed under the License is distributed on an", 
    "\"AS IS\" BASIS, WITHOUT WARRANTIES OR CONDITIONS OF ANY", 
    "KIND, either express or implied.  See the License for the", 
    "specific language governing permissions and limitations", 
    "under the License."
  ], 
  "nbformat": 4, 
  "cells": [
    {
      "source": [
        "<a href=\"https://colab.research.google.com/github/apache/beam/blob/master/examples/python/notebooks/io/custom-inputs-filebasedsource.ipynb\" target=\"_parent\"><img src=\"https://colab.research.google.com/assets/colab-badge.svg\" alt=\"Open In Colab\"/></a>"
      ], 
      "cell_type": "markdown", 
      "metadata": {
        "colab_type": "text", 
        "id": "view-in-github"
      }
    }, 
    {
      "source": [
        "# Custom inputs - FileBasedSource\n", 
        "\n", 
        "Apache Beam makes it easy to read from text files using `beam.io.ReadFromText`, which works in most common cases. However, this assumes that every element is in a single row.\n", 
        "\n", 
        "Let's see how we can use an Apache Beam custom source to read from both a compacted JSON file, where the entire content is in a single line, and a multiline JSON file, where every element spans multiple lines.\n", 
        "\n", 
        "To learn more about Splittable DoFn, see [Powerful and modular IO connectors with Splittable DoFn in Apache Beam](https://beam.apache.org/blog/2017/08/16/splittable-do-fn.html)."
      ], 
      "cell_type": "markdown", 
      "metadata": {
        "colab_type": "text", 
        "id": "wAFLwhVkcs_S"
      }
    }, 
    {
      "source": [
        "# Setup\n", 
        "We use the `ijson` module to read the JSON file as a generator, rather than reading the entire file. This way, we only store a single element in memory at a time."
      ], 
      "cell_type": "markdown", 
      "metadata": {
        "colab_type": "text", 
        "id": "d1nfgefNcy0I"
      }
    }, 
    {
      "source": [
        "# Run and print a shell command.\n", 
        "def run(cmd):\n", 
        "  print('>> {}'.format(cmd))\n", 
        "  !{cmd}\n", 
        "  print('')\n", 
        "\n", 
        "# Install apache-beam.\n", 
        "run('pip install --quiet apache-beam ijson')\n", 
        "\n", 
        "# Create the required directories.\n", 
        "run('mkdir -p data')"
      ], 
      "cell_type": "code", 
      "execution_count": 0, 
      "outputs": [
        {
          "output_type": "stream", 
          "name": "stdout", 
          "text": [
            ">> pip install --quiet apache-beam ijson\n", 
            "\n", 
            ">> mkdir -p data\n", 
            "\n"
          ]
        }
      ], 
      "metadata": {
        "outputId": "d6daff10-ed13-4eea-da54-f89b31b59a17", 
        "colab_type": "code", 
        "id": "IvkH2xq_Fi-U", 
        "colab": {
          "base_uri": "https://localhost:8080/", 
          "height": 85
        }
      }
    }, 
    {
      "source": [
        "# Example: JSON Source"
      ], 
      "cell_type": "markdown", 
      "metadata": {
        "colab_type": "text", 
        "id": "bmicFpMNgKr4"
      }
    }, 
    {
      "source": [
        "To start, let's transform one of the sample CSV file into a compacted JSON file and transform another CSV file into a multiline JSON. For simplicity, we'll use standard Python modules for these transformations."
      ], 
      "cell_type": "markdown", 
      "metadata": {
        "colab_type": "text", 
        "id": "EUpj3mhLchx5"
      }
    }, 
    {
      "source": [
        "import json\n", 
        "\n", 
        "def create_test_data(start, stop):\n", 
        "  for i in range(start, stop):\n", 
        "    yield {\n", 
        "      'value': i,\n", 
        "      'value_squared': i*i,\n", 
        "    }\n", 
        "\n", 
        "for obj in create_test_data(1, 5):\n", 
        "  print(obj)"
      ], 
      "cell_type": "code", 
      "execution_count": 0, 
      "outputs": [
        {
          "output_type": "stream", 
          "name": "stdout", 
          "text": [
            "{'value_squared': 1, 'value': 1}\n", 
            "{'value_squared': 4, 'value': 2}\n", 
            "{'value_squared': 9, 'value': 3}\n", 
            "{'value_squared': 16, 'value': 4}\n"
          ]
        }
      ], 
      "metadata": {
        "outputId": "ce6f7fd9-7636-4db3-ec52-8ffb55f327e2", 
        "colab_type": "code", 
        "id": "nw4haCXEDIwA", 
        "colab": {
          "base_uri": "https://localhost:8080/", 
          "height": 85
        }
      }
    }, 
    {
      "source": [
        "# Create the compacted JSON file.\n", 
        "with open('data/compacted.json', 'w') as out_file:\n", 
        "  json.dump(\n", 
        "      [obj for obj in create_test_data(5, 10)],\n", 
        "      out_file,\n", 
        "      separators=(',', ':'),\n", 
        "  )\n", 
        "\n", 
        "# Check the generated file.\n", 
        "!ls -lh data/compacted.json\n", 
        "!cat data/compacted.json"
      ], 
      "cell_type": "code", 
      "execution_count": 0, 
      "outputs": [
        {
          "output_type": "stream", 
          "name": "stdout", 
          "text": [
            "-rw-r--r-- 1 root root 156 Jan 30 01:40 data/compacted.json\n", 
            "[{\"value_squared\":25,\"value\":5},{\"value_squared\":36,\"value\":6},{\"value_squared\":49,\"value\":7},{\"value_squared\":64,\"value\":8},{\"value_squared\":81,\"value\":9}]"
          ]
        }
      ], 
      "metadata": {
        "outputId": "5e1e6d53-976c-4c72-929d-2ab76dc6a9ef", 
        "colab_type": "code", 
        "id": "TSW-ib-BB4P6", 
        "colab": {
          "base_uri": "https://localhost:8080/", 
          "height": 71
        }
      }
    }, 
    {
      "source": [
        "# Create the multiline JSON file.\n", 
        "with open('data/multiline.json', 'w') as out_file:\n", 
        "  json.dump(\n", 
        "      [obj for obj in create_test_data(10, 15)],\n", 
        "      out_file,\n", 
        "      separators=(',', ': '),\n", 
        "      indent=2,\n", 
        "  )\n", 
        "\n", 
        "# Check the generated file.\n", 
        "!ls -lh data/multiline.json\n", 
        "!cat data/multiline.json"
      ], 
      "cell_type": "code", 
      "execution_count": 0, 
      "outputs": [
        {
          "output_type": "stream", 
          "name": "stdout", 
          "text": [
            "-rw-r--r-- 1 root root 257 Jan 30 01:40 data/multiline.json\n", 
            "[\n", 
            "  {\n", 
            "    \"value_squared\": 100,\n", 
            "    \"value\": 10\n", 
            "  },\n", 
            "  {\n", 
            "    \"value_squared\": 121,\n", 
            "    \"value\": 11\n", 
            "  },\n", 
            "  {\n", 
            "    \"value_squared\": 144,\n", 
            "    \"value\": 12\n", 
            "  },\n", 
            "  {\n", 
            "    \"value_squared\": 169,\n", 
            "    \"value\": 13\n", 
            "  },\n", 
            "  {\n", 
            "    \"value_squared\": 196,\n", 
            "    \"value\": 14\n", 
            "  }\n", 
            "]"
          ]
        }
      ], 
      "metadata": {
        "outputId": "b49c5d1d-d341-4e02-b637-181e03eb4f71", 
        "colab_type": "code", 
        "id": "0F-DT_NQbvaT", 
        "colab": {
          "base_uri": "https://localhost:8080/", 
          "height": 408
        }
      }
    }, 
    {
      "source": [
        "We'll start by testing how to use the `ijson` library by itself to create a generator of JSON objects."
      ], 
      "cell_type": "markdown", 
      "metadata": {
        "colab_type": "text", 
        "id": "Ek7nU4eQo1i7"
      }
    }, 
    {
      "source": [
        "import ijson\n", 
        "\n", 
        "# Sample the first 10 objects on each file.\n", 
        "print 'Compacted'\n", 
        "with open('data/compacted.json') as f:\n", 
        "  for obj in ijson.items(f, 'item'):\n", 
        "    print(obj)\n", 
        "print ''\n", 
        "\n", 
        "print 'Multiline'\n", 
        "with open('data/multiline.json') as f:\n", 
        "  for obj in ijson.items(f, 'item'):\n", 
        "    print(obj)"
      ], 
      "cell_type": "code", 
      "execution_count": 0, 
      "outputs": [
        {
          "output_type": "stream", 
          "name": "stdout", 
          "text": [
            "Compacted\n", 
            "{u'value_squared': 25, u'value': 5}\n", 
            "{u'value_squared': 36, u'value': 6}\n", 
            "{u'value_squared': 49, u'value': 7}\n", 
            "{u'value_squared': 64, u'value': 8}\n", 
            "{u'value_squared': 81, u'value': 9}\n", 
            "\n", 
            "Multiline\n", 
            "{u'value_squared': 100, u'value': 10}\n", 
            "{u'value_squared': 121, u'value': 11}\n", 
            "{u'value_squared': 144, u'value': 12}\n", 
            "{u'value_squared': 169, u'value': 13}\n", 
            "{u'value_squared': 196, u'value': 14}\n"
          ]
        }
      ], 
      "metadata": {
        "outputId": "b012a343-87b1-4376-b91c-b526f86cd280", 
        "colab_type": "code", 
        "id": "BiWNjAPqBrWU", 
        "colab": {
          "base_uri": "https://localhost:8080/", 
          "height": 238
        }
      }
    }, 
    {
      "source": [
        "We can now use the generator that we created in the custom source."
      ], 
      "cell_type": "markdown", 
      "metadata": {
        "colab_type": "text", 
        "id": "54ZCejL1sy7Q"
      }
    }, 
    {
      "source": [
        "import apache_beam as beam\n", 
        "import logging\n", 
        "import ijson\n", 
        "\n", 
        "# Create a generator of objects from a given JSON file.\n", 
        "def read_json_objects(file_object):\n", 
        "  for item in ijson.items(file_object, 'item'):\n", 
        "    yield item\n", 
        "\n", 
        "class JsonSource(beam.io.filebasedsource.FileBasedSource):\n", 
        "  def __init__(self, file_pattern):\n", 
        "    super(JsonSource, self).__init__(file_pattern, splittable=False)\n", 
        "\n", 
        "  def in_range(self, range_tracker, position):\n", 
        "    try:\n", 
        "      return range_tracker.set_current_position(position)\n", 
        "    except ValueError:\n", 
        "      return range_tracker.try_claim(position)\n", 
        "\n", 
        "  def read_records(self, filename, range_tracker):\n", 
        "    with self.open_file(filename) as f:\n", 
        "      f.seek(range_tracker.start_position() or 0)\n", 
        "      while self.in_range(range_tracker, f.tell()):\n", 
        "        for obj in read_json_objects(f):\n", 
        "          yield obj\n", 
        "\n", 
        "# Running locally in the DirectRunner.\n", 
        "with beam.Pipeline() as pipeline:\n", 
        "  (\n", 
        "      pipeline\n", 
        "      | 'Read JSON objects' >> beam.io.Read(JsonSource('data/*'))\n", 
        "      | 'Inspect elements' >> beam.Map(logging.warning)\n", 
        "  )"
      ], 
      "cell_type": "code", 
      "execution_count": 0, 
      "outputs": [
        {
          "output_type": "stream", 
          "name": "stderr", 
          "text": [
            "WARNING:root:{u'value_squared': 100, u'value': 10}\n", 
            "WARNING:root:{u'value_squared': 121, u'value': 11}\n", 
            "WARNING:root:{u'value_squared': 144, u'value': 12}\n", 
            "WARNING:root:{u'value_squared': 169, u'value': 13}\n", 
            "WARNING:root:{u'value_squared': 196, u'value': 14}\n", 
            "WARNING:root:{u'value_squared': 25, u'value': 5}\n", 
            "WARNING:root:{u'value_squared': 36, u'value': 6}\n", 
            "WARNING:root:{u'value_squared': 49, u'value': 7}\n", 
            "WARNING:root:{u'value_squared': 64, u'value': 8}\n", 
            "WARNING:root:{u'value_squared': 81, u'value': 9}\n"
          ]
        }
      ], 
      "metadata": {
        "outputId": "a578d6ba-61e0-409d-baf2-17897928b015", 
        "colab_type": "code", 
        "id": "lgs7A6WansCQ", 
        "colab": {
          "base_uri": "https://localhost:8080/", 
          "height": 187
        }
      }
    }
  ], 
  "metadata": {
    "kernelspec": {
      "display_name": "Python 2", 
      "name": "python2"
    }, 
    "colab": {
      "include_colab_link": true, 
      "name": "Custom inputs - FileBasedSource - Apache Beam", 
      "toc_visible": true, 
      "provenance": [], 
      "collapsed_sections": [], 
      "version": "0.3.2"
    }
  }, 
  "nbformat_minor": 0
}