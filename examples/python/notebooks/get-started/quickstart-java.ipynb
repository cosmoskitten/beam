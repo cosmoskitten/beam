{
  "nbformat": 4,
  "nbformat_minor": 0,
  "metadata": {
    "colab": {
      "name": "Quickstart - Apache Beam - Java",
      "version": "0.3.2",
      "provenance": [],
      "collapsed_sections": [],
      "toc_visible": true
    },
    "kernelspec": {
      "name": "python3",
      "display_name": "Python 3"
    }
  },
  "cells": [
    {
      "metadata": {
        "id": "lNKIMlEDZ_Vw",
        "colab_type": "text"
      },
      "cell_type": "markdown",
      "source": [
        "# Quickstart - Apache Beam - Java\n",
        "\n",
        "In this Quickstart, we set up a Java development environment and work through a simple example using the [DirectRunner](https://beam.apache.org/documentation/runners/direct/). You can explore other runners with the [Beam Capatibility Matrix](https://beam.apache.org/documentation/runners/capability-matrix/).\n",
        "\n",
        "To navigate through different sections, use the table of contents. From **View**  drop-down list, select **Table of contents**. If you have feedback, select a cell and click the **Comment** button in the top-right corner. To learn more about Colab, see [Welcome to Colaboratory!](https://colab.sandbox.google.com/notebooks/welcome.ipynb).\n",
        "\n",
        "To run a code cell, you can click the **Run cell** button at the top left of the cell, or by select it and press **`Shift+Enter`**. Try modifying a code cell and re-running it to see what happens."
      ]
    },
    {
      "metadata": {
        "id": "Fz6KSQ13_3Rr",
        "colab_type": "text"
      },
      "cell_type": "markdown",
      "source": [
        "# Setup\n",
        "\n",
        "First, you need to set up your environment. This will take a while, so feel free to go for a walk or do some stretching."
      ]
    },
    {
      "metadata": {
        "id": "GOOk81Jj_yUy",
        "colab_type": "code",
        "outputId": "8116de41-423f-4f3d-a05b-49ad48708380",
        "colab": {
          "base_uri": "https://localhost:8080/",
          "height": 170
        }
      },
      "cell_type": "code",
      "source": [
        "import os\n",
        "\n",
        "# Run and print a shell command.\n",
        "def run(cmd):\n",
        "  print('>> {}'.format(cmd))\n",
        "  !{cmd}  # This is magic to run 'cmd' in the shell.\n",
        "  print('')\n",
        "\n",
        "run('mkdir -p ~/apache-beam-quickstart')\n",
        "os.chdir(f\"{os.getenv('HOME')}/apache-beam-quickstart\")\n",
        "\n",
        "# Copy the input file into the local filesystem.\n",
        "run('mkdir -p data')\n",
        "run('gsutil cp gs://dataflow-samples/shakespeare/kinglear.txt data/')"
      ],
      "execution_count": 1,
      "outputs": [
        {
          "output_type": "stream",
          "text": [
            ">> mkdir -p ~/apache-beam-quickstart\n",
            "\n",
            ">> mkdir -p data\n",
            "\n",
            ">> gsutil cp gs://dataflow-samples/shakespeare/kinglear.txt data/\n",
            "Copying gs://dataflow-samples/shakespeare/kinglear.txt...\n",
            "/ [1 files][153.6 KiB/153.6 KiB]                                                \n",
            "Operation completed over 1 objects/153.6 KiB.                                    \n",
            "\n"
          ],
          "name": "stdout"
        }
      ]
    },
    {
      "metadata": {
        "id": "Hmto8JTSWwUK",
        "colab_type": "text"
      },
      "cell_type": "markdown",
      "source": [
        "## Installing development tools\n",
        "\n",
        "Let's start by installing Java. We'll use the `default-jdk`, which uses [OpenJDK](https://openjdk.java.net/).\n",
        "\n",
        "**Note:** Alternatively, you could install the propietary [Oracle JDK](https://www.oracle.com/technetwork/java/javase/downloads/index.html) instead."
      ]
    },
    {
      "metadata": {
        "id": "ONYtX0doWpFz",
        "colab_type": "code",
        "outputId": "ea3553ac-81f1-4fb5-ebde-cea1f38132ce",
        "colab": {
          "base_uri": "https://localhost:8080/",
          "height": 153
        }
      },
      "cell_type": "code",
      "source": [
        "# Update and upgrade the system before installing anything else.\n",
        "run('(apt-get update && apt-get upgrade) > /dev/null')\n",
        "\n",
        "# Install the Java JDK.\n",
        "run('apt-get install default-jdk > /dev/null')\n",
        "\n",
        "# Check the Java version to see if everything is working well.\n",
        "run('javac -version')"
      ],
      "execution_count": 2,
      "outputs": [
        {
          "output_type": "stream",
          "text": [
            ">> (apt-get update && apt-get upgrade) > /dev/null\n",
            "Extracting templates from packages: 100%\n",
            "\n",
            ">> apt-get install default-jdk > /dev/null\n",
            "\n",
            ">> javac -version\n",
            "javac 10.0.2\n",
            "\n"
          ],
          "name": "stdout"
        }
      ]
    },
    {
      "metadata": {
        "id": "Wab7H4IZW9xZ",
        "colab_type": "text"
      },
      "cell_type": "markdown",
      "source": [
        "Now, let's install [Gradle](https://gradle.org/), which we'll need to automate the build and running processes for our application. \n",
        "\n",
        "**Note:** Alternatively, you could install and configure [Maven](https://maven.apache.org/) instead."
      ]
    },
    {
      "metadata": {
        "id": "xS3Oeu3DW7vy",
        "colab_type": "code",
        "outputId": "5d5fee02-c3ad-4531-c86f-a2dc8039f7d7",
        "colab": {
          "base_uri": "https://localhost:8080/",
          "height": 595
        }
      },
      "cell_type": "code",
      "source": [
        "import os\n",
        "\n",
        "# Download the gradle source.\n",
        "gradle_version = 'gradle-5.0'\n",
        "gradle_path = f\"/opt/{gradle_version}\"\n",
        "if not os.path.exists(gradle_path):\n",
        "  run(f\"wget -q -nc -O gradle.zip https://services.gradle.org/distributions/{gradle_version}-bin.zip\")\n",
        "  run('unzip -q -d /opt gradle.zip')\n",
        "  run('rm -f gradle.zip')\n",
        "\n",
        "# We're choosing to use the absolute path instead of adding it to the $PATH environment variable.\n",
        "def gradle(args):\n",
        "  run(f\"{gradle_path}/bin/gradle --console=plain {args}\")\n",
        "\n",
        "gradle('-v')"
      ],
      "execution_count": 3,
      "outputs": [
        {
          "output_type": "stream",
          "text": [
            ">> wget -q -nc -O gradle.zip https://services.gradle.org/distributions/gradle-5.0-bin.zip\n",
            "\n",
            ">> unzip -q -d /opt gradle.zip\n",
            "\n",
            ">> rm -f gradle.zip\n",
            "\n",
            ">> /opt/gradle-5.0/bin/gradle --console=plain -v\n",
            "\u001b[m\n",
            "Welcome to Gradle 5.0!\n",
            "\n",
            "Here are the highlights of this release:\n",
            " - Kotlin DSL 1.0\n",
            " - Task timeouts\n",
            " - Dependency alignment aka BOM support\n",
            " - Interactive `gradle init`\n",
            "\n",
            "For more details see https://docs.gradle.org/5.0/release-notes.html\n",
            "\n",
            "\n",
            "------------------------------------------------------------\n",
            "Gradle 5.0\n",
            "------------------------------------------------------------\n",
            "\n",
            "Build time:   2018-11-26 11:48:43 UTC\n",
            "Revision:     7fc6e5abf2fc5fe0824aec8a0f5462664dbcd987\n",
            "\n",
            "Kotlin DSL:   1.0.4\n",
            "Kotlin:       1.3.10\n",
            "Groovy:       2.5.4\n",
            "Ant:          Apache Ant(TM) version 1.9.13 compiled on July 10 2018\n",
            "JVM:          10.0.2 (Oracle Corporation 10.0.2+13-Ubuntu-1ubuntu0.18.04.4)\n",
            "OS:           Linux 4.14.79+ amd64\n",
            "\n",
            "\u001b[m\n"
          ],
          "name": "stdout"
        }
      ]
    },
    {
      "metadata": {
        "id": "YTkkapX9KVhA",
        "colab_type": "text"
      },
      "cell_type": "markdown",
      "source": [
        "## build.gradle\n",
        "\n",
        "We'll also need a [`build.gradle`](https://guides.gradle.org/creating-new-gradle-builds/) file which will allow us to invoke some useful commands."
      ]
    },
    {
      "metadata": {
        "id": "oUqfqWyMuIfR",
        "colab_type": "code",
        "outputId": "4c10d9fa-004e-4067-8d0a-b0c468fc6cf1",
        "colab": {
          "base_uri": "https://localhost:8080/",
          "height": 34
        }
      },
      "cell_type": "code",
      "source": [
        "%%writefile build.gradle\n",
        "\n",
        "plugins {\n",
        "  // id 'idea'     // Uncomment for IntelliJ IDE\n",
        "  // id 'eclipse'  // Uncomment for Eclipse IDE\n",
        "\n",
        "  // Apply java plugin and make it a runnable application.\n",
        "  id 'java'\n",
        "  id 'application'\n",
        "\n",
        "  // 'shadow' allows us to embed all the dependencies into a fat jar.\n",
        "  id 'com.github.johnrengelman.shadow' version '4.0.3'\n",
        "}\n",
        "\n",
        "// This is the path of the main class, stored within ./src/main/java/\n",
        "mainClassName = 'samples.quickstart.WordCount'\n",
        "\n",
        "// Declare the sources from which to fetch dependencies.\n",
        "repositories {\n",
        "  mavenCentral()\n",
        "}\n",
        "\n",
        "// Java version compatibility.\n",
        "sourceCompatibility = 1.8\n",
        "targetCompatibility = 1.8\n",
        "\n",
        "// Use the latest Apache Beam major version 2.\n",
        "// You can also lock into a minor version like '2.9.+'.\n",
        "ext.apacheBeamVersion = '2.+'\n",
        "\n",
        "// Declare the dependencies of the project.\n",
        "dependencies {\n",
        "  shadow \"org.apache.beam:beam-sdks-java-core:$apacheBeamVersion\"\n",
        "\n",
        "  runtime \"org.apache.beam:beam-runners-direct-java:$apacheBeamVersion\"\n",
        "  runtime \"org.slf4j:slf4j-api:1.+\"\n",
        "  runtime \"org.slf4j:slf4j-jdk14:1.+\"\n",
        "\n",
        "  testCompile \"junit:junit:4.+\"\n",
        "}\n",
        "\n",
        "// Configure 'shadowJar' instead of 'jar' to set up the fat jar.\n",
        "shadowJar {\n",
        "  baseName = 'WordCount'  // Name of the fat jar file.\n",
        "  classifier = null       // Set to null, otherwise 'shadow' appends a '-all' to the jar file name.\n",
        "  manifest {\n",
        "    attributes('Main-Class': mainClassName)  // Specify where the main class resides.\n",
        "  }\n",
        "}"
      ],
      "execution_count": 4,
      "outputs": [
        {
          "output_type": "stream",
          "text": [
            "Writing build.gradle\n"
          ],
          "name": "stdout"
        }
      ]
    },
    {
      "metadata": {
        "id": "cwZcqmFgoLJ9",
        "colab_type": "text"
      },
      "cell_type": "markdown",
      "source": [
        "## Creating the directory structure\n",
        "\n",
        "Java and Gradle expect a specific [directory structure](https://docs.gradle.org/current/userguide/organizing_gradle_projects.html). This helps organize large projects into a standard structure.\n",
        "\n",
        "For now, we only need a place where our quickstart code will reside. That has to go within `./src/main/java/`."
      ]
    },
    {
      "metadata": {
        "id": "Mr1KTQznbd9F",
        "colab_type": "code",
        "outputId": "070839dd-15cc-4adf-dd4b-d5b0e84c2a13",
        "colab": {
          "base_uri": "https://localhost:8080/",
          "height": 51
        }
      },
      "cell_type": "code",
      "source": [
        "run('mkdir -p src/main/java/samples/quickstart')"
      ],
      "execution_count": 5,
      "outputs": [
        {
          "output_type": "stream",
          "text": [
            ">> mkdir -p src/main/java/samples/quickstart\n",
            "\n"
          ],
          "name": "stdout"
        }
      ]
    },
    {
      "metadata": {
        "id": "cPvvFB19uXNw",
        "colab_type": "text"
      },
      "cell_type": "markdown",
      "source": [
        "# Minimal word count\n",
        "\n",
        "The following example is the \"Hello, World!\" of data processing, a basic implementation of word count. We're creating a simple data processing pipeline that reads a text file and counts the number of occurrences of every word.\n",
        "\n",
        "There are many scenarios where all the data does not fit in memory. Notice that the outputs of the pipeline go to the file system, which allows for large processing jobs in distributed environments."
      ]
    },
    {
      "metadata": {
        "id": "Fl3iUat7KYIE",
        "colab_type": "text"
      },
      "cell_type": "markdown",
      "source": [
        "## WordCount.java"
      ]
    },
    {
      "metadata": {
        "id": "5l3S2mjMBKhT",
        "colab_type": "code",
        "outputId": "029a7b5a-fcb8-40e5-e0cc-59232ac57616",
        "colab": {
          "base_uri": "https://localhost:8080/",
          "height": 34
        }
      },
      "cell_type": "code",
      "source": [
        "%%writefile src/main/java/samples/quickstart/WordCount.java\n",
        "\n",
        "package samples.quickstart;\n",
        "\n",
        "import org.apache.beam.sdk.Pipeline;\n",
        "import org.apache.beam.sdk.io.TextIO;\n",
        "import org.apache.beam.sdk.options.PipelineOptions;\n",
        "import org.apache.beam.sdk.options.PipelineOptionsFactory;\n",
        "import org.apache.beam.sdk.transforms.Count;\n",
        "import org.apache.beam.sdk.transforms.Filter;\n",
        "import org.apache.beam.sdk.transforms.FlatMapElements;\n",
        "import org.apache.beam.sdk.transforms.MapElements;\n",
        "import org.apache.beam.sdk.values.KV;\n",
        "import org.apache.beam.sdk.values.TypeDescriptors;\n",
        "\n",
        "import java.util.Arrays;\n",
        "\n",
        "public class WordCount {\n",
        "  public static void main(String[] args) {\n",
        "    String inputsDir = \"data/*\";\n",
        "    String outputsPrefix = \"outputs/part\";\n",
        "\n",
        "    PipelineOptions options = PipelineOptionsFactory.fromArgs(args).create();\n",
        "    Pipeline pipeline = Pipeline.create(options);\n",
        "    pipeline\n",
        "        .apply(\"Read lines\", TextIO.read().from(inputsDir))\n",
        "        .apply(\"Find words\", FlatMapElements.into(TypeDescriptors.strings())\n",
        "            .via((String line) -> Arrays.asList(line.split(\"[^\\\\p{L}]+\"))))\n",
        "        .apply(\"Filter empty words\", Filter.by((String word) -> !word.isEmpty()))\n",
        "        .apply(\"Count words\", Count.perElement())\n",
        "        .apply(\"Write results\", MapElements.into(TypeDescriptors.strings())\n",
        "            .via((KV<String, Long> wordCount) ->\n",
        "                  wordCount.getKey() + \": \" + wordCount.getValue()))\n",
        "        .apply(TextIO.write().to(outputsPrefix));\n",
        "    pipeline.run();\n",
        "  }\n",
        "}"
      ],
      "execution_count": 6,
      "outputs": [
        {
          "output_type": "stream",
          "text": [
            "Writing src/main/java/samples/quickstart/WordCount.java\n"
          ],
          "name": "stdout"
        }
      ]
    },
    {
      "metadata": {
        "id": "yoO4xHnaKiz9",
        "colab_type": "text"
      },
      "cell_type": "markdown",
      "source": [
        "## Build and run"
      ]
    },
    {
      "metadata": {
        "id": "giJMbbcq2OPu",
        "colab_type": "text"
      },
      "cell_type": "markdown",
      "source": [
        "Let's first check how the final file system structure looks like. These are all the files required to build and run our application."
      ]
    },
    {
      "metadata": {
        "id": "Yi5IY62e2KWm",
        "colab_type": "code",
        "outputId": "892cf71a-5578-4c01-ac72-3bf168dbee2b",
        "colab": {
          "base_uri": "https://localhost:8080/",
          "height": 68
        }
      },
      "cell_type": "code",
      "source": [
        "# Find all files excluding the '.gradle', 'build', and 'outputs' directories.\n",
        "# The '.gradle' and 'build' directories are generated by gradle during the build\n",
        "# process, and the 'outputs' directory is where we are storing the outputs of\n",
        "# the pipeline.\n",
        "!find . -type f | egrep -v './(\\.gradle|build|outputs)/' | xargs ls -lh"
      ],
      "execution_count": 7,
      "outputs": [
        {
          "output_type": "stream",
          "text": [
            "-rw-r--r-- 1 root root 1.4K Jan 30 18:40 ./build.gradle\n",
            "-rw-r--r-- 1 root root 154K Jan 30 18:39 ./data/kinglear.txt\n",
            "-rw-r--r-- 1 root root 1.5K Jan 30 18:40 ./src/main/java/samples/quickstart/WordCount.java\n"
          ],
          "name": "stdout"
        }
      ]
    },
    {
      "metadata": {
        "id": "Y8Z4x0GP2VeC",
        "colab_type": "text"
      },
      "cell_type": "markdown",
      "source": [
        "We are now ready to build the application using `gradle build`."
      ]
    },
    {
      "metadata": {
        "id": "urmCmtG08F-0",
        "colab_type": "code",
        "outputId": "3449472e-a5ea-4864-c1f6-d3acb1bd57cd",
        "colab": {
          "base_uri": "https://localhost:8080/",
          "height": 510
        }
      },
      "cell_type": "code",
      "source": [
        "# Build the project.\n",
        "gradle('build')\n",
        "\n",
        "# Check the generated build files.\n",
        "run('ls -lh build/libs/')"
      ],
      "execution_count": 8,
      "outputs": [
        {
          "output_type": "stream",
          "text": [
            ">> /opt/gradle-5.0/bin/gradle --console=plain build\n",
            "\u001b[mStarting a Gradle Daemon (subsequent builds will be faster)\n",
            "> Task :compileJava\n",
            "> Task :processResources NO-SOURCE\n",
            "> Task :classes\n",
            "> Task :jar\n",
            "> Task :startScripts\n",
            "> Task :distTar\n",
            "> Task :distZip\n",
            "> Task :shadowJar\n",
            "> Task :startShadowScripts\n",
            "> Task :shadowDistTar\n",
            "> Task :shadowDistZip\n",
            "> Task :assemble\n",
            "> Task :compileTestJava NO-SOURCE\n",
            "> Task :processTestResources NO-SOURCE\n",
            "> Task :testClasses UP-TO-DATE\n",
            "> Task :test NO-SOURCE\n",
            "> Task :check UP-TO-DATE\n",
            "> Task :build\n",
            "\n",
            "BUILD SUCCESSFUL in 56s\n",
            "9 actionable tasks: 9 executed\n",
            "\u001b[m\n",
            ">> ls -lh build/libs/\n",
            "total 46M\n",
            "-rw-r--r-- 1 root root 2.9K Jan 30 18:41 apache-beam-quickstart.jar\n",
            "-rw-r--r-- 1 root root  46M Jan 30 18:41 WordCount.jar\n",
            "\n"
          ],
          "name": "stdout"
        }
      ]
    },
    {
      "metadata": {
        "id": "LrRFNZHD8dtu",
        "colab_type": "text"
      },
      "cell_type": "markdown",
      "source": [
        "There are two files generated:\n",
        "* The `apache-beam-quickstart.jar` file, the application generated from the regular `build` command. It's around 3KB in size.\n",
        "* The `WordCount.jar` file, with the `baseName` we specified in the `shadowJar` section of the `gradle.build` file. It's a whopping 46MB in size, with all the required libraries it needs to run embedded in it.\n",
        "\n",
        "The file we're actually interested in is the fat JAR file `WordCount.jar`. To run the fat JAR, we'll use the `gradle runShadow` command."
      ]
    },
    {
      "metadata": {
        "id": "CgTXBdTsBn1F",
        "colab_type": "code",
        "outputId": "2f273ece-5f1b-40a9-a919-fc77b42d0cc4",
        "colab": {
          "base_uri": "https://localhost:8080/",
          "height": 1431
        }
      },
      "cell_type": "code",
      "source": [
        "# Run the shadow (fat jar) build.\n",
        "gradle('runShadow')\n",
        "\n",
        "# Sample the first 20 results, remember there are no ordering guarantees.\n",
        "run('head -n 20 outputs/part-00000-of-*')"
      ],
      "execution_count": 9,
      "outputs": [
        {
          "output_type": "stream",
          "text": [
            ">> /opt/gradle-5.0/bin/gradle --console=plain runShadow\n",
            "\u001b[m> Task :compileJava UP-TO-DATE\n",
            "> Task :processResources NO-SOURCE\n",
            "> Task :classes UP-TO-DATE\n",
            "> Task :shadowJar UP-TO-DATE\n",
            "> Task :startShadowScripts UP-TO-DATE\n",
            "> Task :installShadowDist\n",
            "\n",
            "> Task :runShadow\n",
            "WARNING: An illegal reflective access operation has occurred\n",
            "WARNING: Illegal reflective access by org.apache.beam.vendor.grpc.v1_13_1.com.google.protobuf.UnsafeUtil (file:/root/apache-beam-quickstart/build/install/apache-beam-quickstart-shadow/lib/WordCount.jar) to field java.nio.Buffer.address\n",
            "WARNING: Please consider reporting this to the maintainers of org.apache.beam.vendor.grpc.v1_13_1.com.google.protobuf.UnsafeUtil\n",
            "WARNING: Use --illegal-access=warn to enable warnings of further illegal reflective access operations\n",
            "WARNING: All illegal access operations will be denied in a future release\n",
            "Jan 30, 2019 6:41:39 PM org.apache.beam.sdk.io.FileBasedSource getEstimatedSizeBytes\n",
            "INFO: Filepattern data/* matched 1 files with total size 157283\n",
            "Jan 30, 2019 6:41:39 PM org.apache.beam.sdk.io.FileBasedSource split\n",
            "INFO: Splitting filepattern data/* into bundles of size 52427 took 0 ms and produced 1 files and 3 bundles\n",
            "Jan 30, 2019 6:42:00 PM org.apache.beam.sdk.io.WriteFiles$WriteShardsIntoTempFilesFn processElement\n",
            "INFO: Opening writer 5749068f-0291-4023-9577-53bf6e0dc9c8 for window org.apache.beam.sdk.transforms.windowing.GlobalWindow@34cdeda2 pane PaneInfo{isFirst=true, isLast=true, timing=ON_TIME, index=0, onTimeIndex=0} destination null\n",
            "Jan 30, 2019 6:42:00 PM org.apache.beam.sdk.io.WriteFiles$WriteShardsIntoTempFilesFn processElement\n",
            "INFO: Opening writer d6b17c94-091a-435c-be06-5797cf86a824 for window org.apache.beam.sdk.transforms.windowing.GlobalWindow@34cdeda2 pane PaneInfo{isFirst=true, isLast=true, timing=ON_TIME, index=0, onTimeIndex=0} destination null\n",
            "Jan 30, 2019 6:42:00 PM org.apache.beam.sdk.io.WriteFiles$WriteShardsIntoTempFilesFn processElement\n",
            "INFO: Opening writer 61942fe4-c413-4908-87ca-f03d5ea1ed26 for window org.apache.beam.sdk.transforms.windowing.GlobalWindow@34cdeda2 pane PaneInfo{isFirst=true, isLast=true, timing=ON_TIME, index=0, onTimeIndex=0} destination null\n",
            "Jan 30, 2019 6:42:00 PM org.apache.beam.sdk.io.FileBasedSink$Writer close\n",
            "INFO: Successfully wrote temporary file /root/apache-beam-quickstart/outputs/.temp-beam-2019-01-30_18-41-38-1/d6b17c94-091a-435c-be06-5797cf86a824\n",
            "Jan 30, 2019 6:42:00 PM org.apache.beam.sdk.io.FileBasedSink$Writer close\n",
            "INFO: Successfully wrote temporary file /root/apache-beam-quickstart/outputs/.temp-beam-2019-01-30_18-41-38-1/61942fe4-c413-4908-87ca-f03d5ea1ed26\n",
            "Jan 30, 2019 6:42:00 PM org.apache.beam.sdk.io.FileBasedSink$Writer close\n",
            "INFO: Successfully wrote temporary file /root/apache-beam-quickstart/outputs/.temp-beam-2019-01-30_18-41-38-1/5749068f-0291-4023-9577-53bf6e0dc9c8\n",
            "Jan 30, 2019 6:42:00 PM org.apache.beam.sdk.io.WriteFiles$WriteShardsIntoTempFilesFn processElement\n",
            "INFO: Opening writer 45bd3ec8-e5c3-435b-b6bb-38f42e3de6c1 for window org.apache.beam.sdk.transforms.windowing.GlobalWindow@34cdeda2 pane PaneInfo{isFirst=true, isLast=true, timing=ON_TIME, index=0, onTimeIndex=0} destination null\n",
            "Jan 30, 2019 6:42:00 PM org.apache.beam.sdk.io.FileBasedSink$Writer close\n",
            "INFO: Successfully wrote temporary file /root/apache-beam-quickstart/outputs/.temp-beam-2019-01-30_18-41-38-1/45bd3ec8-e5c3-435b-b6bb-38f42e3de6c1\n",
            "Jan 30, 2019 6:42:00 PM org.apache.beam.sdk.io.WriteFiles$FinalizeTempFileBundles$FinalizeFn process\n",
            "INFO: Finalizing 4 file results\n",
            "Jan 30, 2019 6:42:00 PM org.apache.beam.sdk.io.FileBasedSink$WriteOperation createMissingEmptyShards\n",
            "INFO: Finalizing for destination null num shards 4.\n",
            "Jan 30, 2019 6:42:00 PM org.apache.beam.sdk.io.FileBasedSink$WriteOperation moveToOutputFiles\n",
            "INFO: Will copy temporary file FileResult{tempFilename=/root/apache-beam-quickstart/outputs/.temp-beam-2019-01-30_18-41-38-1/d6b17c94-091a-435c-be06-5797cf86a824, shard=3, window=org.apache.beam.sdk.transforms.windowing.GlobalWindow@34cdeda2, paneInfo=PaneInfo{isFirst=true, isLast=true, timing=ON_TIME, index=0, onTimeIndex=0}} to final location /root/apache-beam-quickstart/outputs/part-00003-of-00004\n",
            "Jan 30, 2019 6:42:00 PM org.apache.beam.sdk.io.FileBasedSink$WriteOperation moveToOutputFiles\n",
            "INFO: Will copy temporary file FileResult{tempFilename=/root/apache-beam-quickstart/outputs/.temp-beam-2019-01-30_18-41-38-1/5749068f-0291-4023-9577-53bf6e0dc9c8, shard=0, window=org.apache.beam.sdk.transforms.windowing.GlobalWindow@34cdeda2, paneInfo=PaneInfo{isFirst=true, isLast=true, timing=ON_TIME, index=0, onTimeIndex=0}} to final location /root/apache-beam-quickstart/outputs/part-00000-of-00004\n",
            "Jan 30, 2019 6:42:00 PM org.apache.beam.sdk.io.FileBasedSink$WriteOperation moveToOutputFiles\n",
            "INFO: Will copy temporary file FileResult{tempFilename=/root/apache-beam-quickstart/outputs/.temp-beam-2019-01-30_18-41-38-1/61942fe4-c413-4908-87ca-f03d5ea1ed26, shard=2, window=org.apache.beam.sdk.transforms.windowing.GlobalWindow@34cdeda2, paneInfo=PaneInfo{isFirst=true, isLast=true, timing=ON_TIME, index=0, onTimeIndex=0}} to final location /root/apache-beam-quickstart/outputs/part-00002-of-00004\n",
            "Jan 30, 2019 6:42:00 PM org.apache.beam.sdk.io.FileBasedSink$WriteOperation moveToOutputFiles\n",
            "INFO: Will copy temporary file FileResult{tempFilename=/root/apache-beam-quickstart/outputs/.temp-beam-2019-01-30_18-41-38-1/45bd3ec8-e5c3-435b-b6bb-38f42e3de6c1, shard=1, window=org.apache.beam.sdk.transforms.windowing.GlobalWindow@34cdeda2, paneInfo=PaneInfo{isFirst=true, isLast=true, timing=ON_TIME, index=0, onTimeIndex=0}} to final location /root/apache-beam-quickstart/outputs/part-00001-of-00004\n",
            "Jan 30, 2019 6:42:00 PM org.apache.beam.sdk.io.FileBasedSink$WriteOperation removeTemporaryFiles\n",
            "INFO: Will remove known temporary file /root/apache-beam-quickstart/outputs/.temp-beam-2019-01-30_18-41-38-1/5749068f-0291-4023-9577-53bf6e0dc9c8\n",
            "Jan 30, 2019 6:42:00 PM org.apache.beam.sdk.io.FileBasedSink$WriteOperation removeTemporaryFiles\n",
            "INFO: Will remove known temporary file /root/apache-beam-quickstart/outputs/.temp-beam-2019-01-30_18-41-38-1/45bd3ec8-e5c3-435b-b6bb-38f42e3de6c1\n",
            "Jan 30, 2019 6:42:00 PM org.apache.beam.sdk.io.FileBasedSink$WriteOperation removeTemporaryFiles\n",
            "INFO: Will remove known temporary file /root/apache-beam-quickstart/outputs/.temp-beam-2019-01-30_18-41-38-1/d6b17c94-091a-435c-be06-5797cf86a824\n",
            "Jan 30, 2019 6:42:00 PM org.apache.beam.sdk.io.FileBasedSink$WriteOperation removeTemporaryFiles\n",
            "INFO: Will remove known temporary file /root/apache-beam-quickstart/outputs/.temp-beam-2019-01-30_18-41-38-1/61942fe4-c413-4908-87ca-f03d5ea1ed26\n",
            "Jan 30, 2019 6:42:00 PM org.apache.beam.sdk.io.FileBasedSink$WriteOperation removeTemporaryFiles\n",
            "WARNING: Failed to match temporary files under: [/root/apache-beam-quickstart/outputs/.temp-beam-2019-01-30_18-41-38-1/].\n",
            "\n",
            "BUILD SUCCESSFUL in 26s\n",
            "5 actionable tasks: 2 executed, 3 up-to-date\n",
            "\u001b[m\n",
            ">> head -n 20 outputs/part-00000-of-*\n",
            "foul: 15\n",
            "violently: 1\n",
            "dejected: 1\n",
            "upbraids: 1\n",
            "gave: 11\n",
            "become: 2\n",
            "orbs: 1\n",
            "strings: 1\n",
            "Use: 2\n",
            "la: 1\n",
            "Hecate: 1\n",
            "Horses: 1\n",
            "Read: 2\n",
            "festinate: 1\n",
            "jarring: 1\n",
            "lenders: 1\n",
            "follows: 5\n",
            "feeling: 3\n",
            "wrench: 1\n",
            "dream: 1\n",
            "\n"
          ],
          "name": "stdout"
        }
      ]
    },
    {
      "metadata": {
        "id": "T_oqlIM55MzM",
        "colab_type": "text"
      },
      "cell_type": "markdown",
      "source": [
        "## Distributing your application\n",
        "\n",
        "We can run our fat JAR file as long as we have a Java Runtime Environment installed.\n",
        "\n",
        "To distribute, we copy the fat JAR file and run it with `java -jar`."
      ]
    },
    {
      "metadata": {
        "id": "b3YSRjYnavpd",
        "colab_type": "code",
        "outputId": "403244ee-6b13-49d5-ec0d-b7815ea296fb",
        "colab": {
          "base_uri": "https://localhost:8080/",
          "height": 1533
        }
      },
      "cell_type": "code",
      "source": [
        "# You can now distribute and run your Java application as a standalone jar file.\n",
        "run('cp build/libs/WordCount.jar .')\n",
        "run('java -jar WordCount.jar')\n",
        "\n",
        "# Sample the first 20 results, remember there are no ordering guarantees.\n",
        "run('head -n 20 outputs/part-00000-of-*')"
      ],
      "execution_count": 10,
      "outputs": [
        {
          "output_type": "stream",
          "text": [
            ">> cp build/libs/WordCount.jar .\n",
            "\n",
            ">> java -jar WordCount.jar\n",
            "WARNING: An illegal reflective access operation has occurred\n",
            "WARNING: Illegal reflective access by org.apache.beam.vendor.grpc.v1_13_1.com.google.protobuf.UnsafeUtil (file:/root/apache-beam-quickstart/WordCount.jar) to field java.nio.Buffer.address\n",
            "WARNING: Please consider reporting this to the maintainers of org.apache.beam.vendor.grpc.v1_13_1.com.google.protobuf.UnsafeUtil\n",
            "WARNING: Use --illegal-access=warn to enable warnings of further illegal reflective access operations\n",
            "WARNING: All illegal access operations will be denied in a future release\n",
            "Jan 30, 2019 6:42:06 PM org.apache.beam.sdk.io.FileBasedSource getEstimatedSizeBytes\n",
            "INFO: Filepattern data/* matched 1 files with total size 157283\n",
            "Jan 30, 2019 6:42:06 PM org.apache.beam.sdk.io.FileBasedSource split\n",
            "INFO: Splitting filepattern data/* into bundles of size 52427 took 1 ms and produced 1 files and 3 bundles\n",
            "Jan 30, 2019 6:42:26 PM org.apache.beam.sdk.io.WriteFiles$WriteShardsIntoTempFilesFn processElement\n",
            "INFO: Opening writer 4ee2736b-4116-477e-8cba-9ea3a60965ca for window org.apache.beam.sdk.transforms.windowing.GlobalWindow@115667d pane PaneInfo{isFirst=true, isLast=true, timing=ON_TIME, index=0, onTimeIndex=0} destination null\n",
            "Jan 30, 2019 6:42:26 PM org.apache.beam.sdk.io.WriteFiles$WriteShardsIntoTempFilesFn processElement\n",
            "INFO: Opening writer bf2bb381-179b-4913-a3e6-97b198c0acc8 for window org.apache.beam.sdk.transforms.windowing.GlobalWindow@115667d pane PaneInfo{isFirst=true, isLast=true, timing=ON_TIME, index=0, onTimeIndex=0} destination null\n",
            "Jan 30, 2019 6:42:26 PM org.apache.beam.sdk.io.WriteFiles$WriteShardsIntoTempFilesFn processElement\n",
            "INFO: Opening writer dba27039-1445-4d8d-800c-558ccb3227cb for window org.apache.beam.sdk.transforms.windowing.GlobalWindow@115667d pane PaneInfo{isFirst=true, isLast=true, timing=ON_TIME, index=0, onTimeIndex=0} destination null\n",
            "Jan 30, 2019 6:42:26 PM org.apache.beam.sdk.io.FileBasedSink$Writer close\n",
            "INFO: Successfully wrote temporary file /root/apache-beam-quickstart/outputs/.temp-beam-2019-01-30_18-42-05-1/bf2bb381-179b-4913-a3e6-97b198c0acc8\n",
            "Jan 30, 2019 6:42:26 PM org.apache.beam.sdk.io.FileBasedSink$Writer close\n",
            "INFO: Successfully wrote temporary file /root/apache-beam-quickstart/outputs/.temp-beam-2019-01-30_18-42-05-1/4ee2736b-4116-477e-8cba-9ea3a60965ca\n",
            "Jan 30, 2019 6:42:26 PM org.apache.beam.sdk.io.FileBasedSink$Writer close\n",
            "INFO: Successfully wrote temporary file /root/apache-beam-quickstart/outputs/.temp-beam-2019-01-30_18-42-05-1/dba27039-1445-4d8d-800c-558ccb3227cb\n",
            "Jan 30, 2019 6:42:26 PM org.apache.beam.sdk.io.WriteFiles$FinalizeTempFileBundles$FinalizeFn process\n",
            "INFO: Finalizing 3 file results\n",
            "Jan 30, 2019 6:42:26 PM org.apache.beam.sdk.io.FileBasedSink$WriteOperation createMissingEmptyShards\n",
            "INFO: Finalizing for destination null num shards 3.\n",
            "Jan 30, 2019 6:42:26 PM org.apache.beam.sdk.io.FileBasedSink$WriteOperation moveToOutputFiles\n",
            "INFO: Will copy temporary file FileResult{tempFilename=/root/apache-beam-quickstart/outputs/.temp-beam-2019-01-30_18-42-05-1/4ee2736b-4116-477e-8cba-9ea3a60965ca, shard=0, window=org.apache.beam.sdk.transforms.windowing.GlobalWindow@115667d, paneInfo=PaneInfo{isFirst=true, isLast=true, timing=ON_TIME, index=0, onTimeIndex=0}} to final location /root/apache-beam-quickstart/outputs/part-00000-of-00003\n",
            "Jan 30, 2019 6:42:26 PM org.apache.beam.sdk.io.FileBasedSink$WriteOperation moveToOutputFiles\n",
            "INFO: Will copy temporary file FileResult{tempFilename=/root/apache-beam-quickstart/outputs/.temp-beam-2019-01-30_18-42-05-1/dba27039-1445-4d8d-800c-558ccb3227cb, shard=1, window=org.apache.beam.sdk.transforms.windowing.GlobalWindow@115667d, paneInfo=PaneInfo{isFirst=true, isLast=true, timing=ON_TIME, index=0, onTimeIndex=0}} to final location /root/apache-beam-quickstart/outputs/part-00001-of-00003\n",
            "Jan 30, 2019 6:42:26 PM org.apache.beam.sdk.io.FileBasedSink$WriteOperation moveToOutputFiles\n",
            "INFO: Will copy temporary file FileResult{tempFilename=/root/apache-beam-quickstart/outputs/.temp-beam-2019-01-30_18-42-05-1/bf2bb381-179b-4913-a3e6-97b198c0acc8, shard=2, window=org.apache.beam.sdk.transforms.windowing.GlobalWindow@115667d, paneInfo=PaneInfo{isFirst=true, isLast=true, timing=ON_TIME, index=0, onTimeIndex=0}} to final location /root/apache-beam-quickstart/outputs/part-00002-of-00003\n",
            "Jan 30, 2019 6:42:26 PM org.apache.beam.sdk.io.FileBasedSink$WriteOperation removeTemporaryFiles\n",
            "INFO: Will remove known temporary file /root/apache-beam-quickstart/outputs/.temp-beam-2019-01-30_18-42-05-1/bf2bb381-179b-4913-a3e6-97b198c0acc8\n",
            "Jan 30, 2019 6:42:26 PM org.apache.beam.sdk.io.FileBasedSink$WriteOperation removeTemporaryFiles\n",
            "INFO: Will remove known temporary file /root/apache-beam-quickstart/outputs/.temp-beam-2019-01-30_18-42-05-1/4ee2736b-4116-477e-8cba-9ea3a60965ca\n",
            "Jan 30, 2019 6:42:26 PM org.apache.beam.sdk.io.FileBasedSink$WriteOperation removeTemporaryFiles\n",
            "INFO: Will remove known temporary file /root/apache-beam-quickstart/outputs/.temp-beam-2019-01-30_18-42-05-1/dba27039-1445-4d8d-800c-558ccb3227cb\n",
            "Jan 30, 2019 6:42:26 PM org.apache.beam.sdk.io.FileBasedSink$WriteOperation removeTemporaryFiles\n",
            "WARNING: Failed to match temporary files under: [/root/apache-beam-quickstart/outputs/.temp-beam-2019-01-30_18-42-05-1/].\n",
            "\n",
            ">> head -n 20 outputs/part-00000-of-*\n",
            "==> outputs/part-00000-of-00003 <==\n",
            "mum: 1\n",
            "Beware: 1\n",
            "beaks: 1\n",
            "Ten: 1\n",
            "fairs: 1\n",
            "desperate: 2\n",
            "handy: 1\n",
            "whispered: 1\n",
            "guess: 1\n",
            "humbled: 1\n",
            "beware: 1\n",
            "Am: 2\n",
            "gazing: 1\n",
            "As: 28\n",
            "At: 5\n",
            "naughty: 1\n",
            "dealing: 1\n",
            "Thy: 20\n",
            "Putting: 1\n",
            "descent: 1\n",
            "\n",
            "==> outputs/part-00000-of-00004 <==\n",
            "foul: 15\n",
            "violently: 1\n",
            "dejected: 1\n",
            "upbraids: 1\n",
            "gave: 11\n",
            "become: 2\n",
            "orbs: 1\n",
            "strings: 1\n",
            "Use: 2\n",
            "la: 1\n",
            "Hecate: 1\n",
            "Horses: 1\n",
            "Read: 2\n",
            "festinate: 1\n",
            "jarring: 1\n",
            "lenders: 1\n",
            "follows: 5\n",
            "feeling: 3\n",
            "wrench: 1\n",
            "dream: 1\n",
            "\n"
          ],
          "name": "stdout"
        }
      ]
    },
    {
      "metadata": {
        "id": "k-HubCrk-h_G",
        "colab_type": "text"
      },
      "cell_type": "markdown",
      "source": [
        "# Word count with comments\n",
        "\n",
        "Below is mostly the same code as above, but with comments explaining every line in more detail."
      ]
    },
    {
      "metadata": {
        "id": "wvnWyYklCXer",
        "colab_type": "code",
        "outputId": "980ff8f4-a762-4d05-c17d-cdaaa5cd11f1",
        "colab": {
          "base_uri": "https://localhost:8080/",
          "height": 34
        }
      },
      "cell_type": "code",
      "source": [
        "%%writefile src/main/java/samples/quickstart/WordCount.java\n",
        "\n",
        "package samples.quickstart;\n",
        "\n",
        "import org.apache.beam.sdk.Pipeline;\n",
        "import org.apache.beam.sdk.io.TextIO;\n",
        "import org.apache.beam.sdk.options.PipelineOptions;\n",
        "import org.apache.beam.sdk.options.PipelineOptionsFactory;\n",
        "import org.apache.beam.sdk.transforms.Count;\n",
        "import org.apache.beam.sdk.transforms.Filter;\n",
        "import org.apache.beam.sdk.transforms.FlatMapElements;\n",
        "import org.apache.beam.sdk.transforms.MapElements;\n",
        "import org.apache.beam.sdk.values.KV;\n",
        "import org.apache.beam.sdk.values.PCollection;\n",
        "import org.apache.beam.sdk.values.TypeDescriptors;\n",
        "\n",
        "import java.util.Arrays;\n",
        "\n",
        "public class WordCount {\n",
        "  public static void main(String[] args) {\n",
        "    String inputsDir = \"data/*\";\n",
        "    String outputsPrefix = \"outputs/part\";\n",
        "\n",
        "    PipelineOptions options = PipelineOptionsFactory.fromArgs(args).create();\n",
        "    Pipeline pipeline = Pipeline.create(options);\n",
        "\n",
        "    // Store the word counts in a PCollection.\n",
        "    // Each element is a KeyValue of (word, count) of types KV<String, Long>.\n",
        "    PCollection<KV<String, Long>> wordCounts =\n",
        "        // The input PCollection is an empty pipeline.\n",
        "        pipeline\n",
        "\n",
        "        // Read lines from a text file.\n",
        "        .apply(\"Read lines\", TextIO.read().from(inputsDir))\n",
        "        // Element type: String - text line\n",
        "\n",
        "        // Use a regular expression to iterate over all words in the line.\n",
        "        // FlatMapElements will yield an element for every element in an iterable.\n",
        "        .apply(\"Find words\", FlatMapElements.into(TypeDescriptors.strings())\n",
        "            .via((String line) -> Arrays.asList(line.split(\"[^\\\\p{L}]+\"))))\n",
        "        // Element type: String - word\n",
        "\n",
        "        // Keep only non-empty words.\n",
        "        .apply(\"Filter empty words\", Filter.by((String word) -> !word.isEmpty()))\n",
        "        // Element type: String - word\n",
        "\n",
        "        // Count each unique element (word).\n",
        "        .apply(\"Count words\", Count.perElement());\n",
        "        // Element type: KV<String, Long> - key: word, value: counts\n",
        "\n",
        "    // We can process a PCollection through other pipelines, too.\n",
        "    // The input PCollection are the wordCounts from the previous step.\n",
        "    wordCounts\n",
        "        // Format the results into a string so we can write them to a file.\n",
        "        .apply(\"Write results\", MapElements.into(TypeDescriptors.strings())\n",
        "            .via((KV<String, Long> wordCount) ->\n",
        "                  wordCount.getKey() + \": \" + wordCount.getValue()))\n",
        "        // Element type: str - text line\n",
        "\n",
        "        // Finally, write the results to a file.\n",
        "        .apply(TextIO.write().to(outputsPrefix));\n",
        "\n",
        "    // We have to explicitly run the pipeline, otherwise it's only a definition.\n",
        "    pipeline.run();\n",
        "  }\n",
        "}"
      ],
      "execution_count": 11,
      "outputs": [
        {
          "output_type": "stream",
          "text": [
            "Overwriting src/main/java/samples/quickstart/WordCount.java\n"
          ],
          "name": "stdout"
        }
      ]
    },
    {
      "metadata": {
        "id": "wKAJp7ON4Vpp",
        "colab_type": "code",
        "outputId": "461dd56f-0a64-44f6-ab68-04d56c097f51",
        "colab": {
          "base_uri": "https://localhost:8080/",
          "height": 1822
        }
      },
      "cell_type": "code",
      "source": [
        "# Build and run the project. The 'runShadow' task implicitly does a 'build'.\n",
        "gradle('runShadow')\n",
        "\n",
        "# Sample the first 20 results, remember there are no ordering guarantees.\n",
        "run('head -n 20 outputs/part-00000-of-*')"
      ],
      "execution_count": 12,
      "outputs": [
        {
          "output_type": "stream",
          "text": [
            ">> /opt/gradle-5.0/bin/gradle --console=plain runShadow\n",
            "\u001b[m> Task :compileJava\n",
            "> Task :processResources NO-SOURCE\n",
            "> Task :classes\n",
            "> Task :shadowJar\n",
            "> Task :startShadowScripts\n",
            "> Task :installShadowDist\n",
            "\n",
            "> Task :runShadow\n",
            "WARNING: An illegal reflective access operation has occurred\n",
            "WARNING: Illegal reflective access by org.apache.beam.vendor.grpc.v1_13_1.com.google.protobuf.UnsafeUtil (file:/root/apache-beam-quickstart/build/install/apache-beam-quickstart-shadow/lib/WordCount.jar) to field java.nio.Buffer.address\n",
            "WARNING: Please consider reporting this to the maintainers of org.apache.beam.vendor.grpc.v1_13_1.com.google.protobuf.UnsafeUtil\n",
            "WARNING: Use --illegal-access=warn to enable warnings of further illegal reflective access operations\n",
            "WARNING: All illegal access operations will be denied in a future release\n",
            "Jan 30, 2019 6:42:44 PM org.apache.beam.sdk.io.FileBasedSource getEstimatedSizeBytes\n",
            "INFO: Filepattern data/* matched 1 files with total size 157283\n",
            "Jan 30, 2019 6:42:44 PM org.apache.beam.sdk.io.FileBasedSource split\n",
            "INFO: Splitting filepattern data/* into bundles of size 52427 took 1 ms and produced 1 files and 3 bundles\n",
            "Jan 30, 2019 6:43:04 PM org.apache.beam.sdk.io.WriteFiles$WriteShardsIntoTempFilesFn processElement\n",
            "INFO: Opening writer 73d6646c-d27f-4a1a-a354-0ea342fa3376 for window org.apache.beam.sdk.transforms.windowing.GlobalWindow@9ef8eb7 pane PaneInfo{isFirst=true, isLast=true, timing=ON_TIME, index=0, onTimeIndex=0} destination null\n",
            "Jan 30, 2019 6:43:04 PM org.apache.beam.sdk.io.WriteFiles$WriteShardsIntoTempFilesFn processElement\n",
            "INFO: Opening writer be166b79-848f-42c9-a417-b869633e062a for window org.apache.beam.sdk.transforms.windowing.GlobalWindow@9ef8eb7 pane PaneInfo{isFirst=true, isLast=true, timing=ON_TIME, index=0, onTimeIndex=0} destination null\n",
            "Jan 30, 2019 6:43:04 PM org.apache.beam.sdk.io.WriteFiles$WriteShardsIntoTempFilesFn processElement\n",
            "INFO: Opening writer 26dffb25-3352-4968-b589-b07562a18829 for window org.apache.beam.sdk.transforms.windowing.GlobalWindow@9ef8eb7 pane PaneInfo{isFirst=true, isLast=true, timing=ON_TIME, index=0, onTimeIndex=0} destination null\n",
            "Jan 30, 2019 6:43:04 PM org.apache.beam.sdk.io.FileBasedSink$Writer close\n",
            "INFO: Successfully wrote temporary file /root/apache-beam-quickstart/outputs/.temp-beam-2019-01-30_18-42-43-1/73d6646c-d27f-4a1a-a354-0ea342fa3376\n",
            "Jan 30, 2019 6:43:04 PM org.apache.beam.sdk.io.FileBasedSink$Writer close\n",
            "INFO: Successfully wrote temporary file /root/apache-beam-quickstart/outputs/.temp-beam-2019-01-30_18-42-43-1/26dffb25-3352-4968-b589-b07562a18829\n",
            "Jan 30, 2019 6:43:04 PM org.apache.beam.sdk.io.FileBasedSink$Writer close\n",
            "INFO: Successfully wrote temporary file /root/apache-beam-quickstart/outputs/.temp-beam-2019-01-30_18-42-43-1/be166b79-848f-42c9-a417-b869633e062a\n",
            "Jan 30, 2019 6:43:04 PM org.apache.beam.sdk.io.WriteFiles$WriteShardsIntoTempFilesFn processElement\n",
            "INFO: Opening writer 81f86faa-205d-49ed-b7dd-3109c12e7eb1 for window org.apache.beam.sdk.transforms.windowing.GlobalWindow@9ef8eb7 pane PaneInfo{isFirst=true, isLast=true, timing=ON_TIME, index=0, onTimeIndex=0} destination null\n",
            "Jan 30, 2019 6:43:04 PM org.apache.beam.sdk.io.FileBasedSink$Writer close\n",
            "INFO: Successfully wrote temporary file /root/apache-beam-quickstart/outputs/.temp-beam-2019-01-30_18-42-43-1/81f86faa-205d-49ed-b7dd-3109c12e7eb1\n",
            "Jan 30, 2019 6:43:04 PM org.apache.beam.sdk.io.WriteFiles$FinalizeTempFileBundles$FinalizeFn process\n",
            "INFO: Finalizing 4 file results\n",
            "Jan 30, 2019 6:43:04 PM org.apache.beam.sdk.io.FileBasedSink$WriteOperation createMissingEmptyShards\n",
            "INFO: Finalizing for destination null num shards 4.\n",
            "Jan 30, 2019 6:43:04 PM org.apache.beam.sdk.io.FileBasedSink$WriteOperation moveToOutputFiles\n",
            "INFO: Will copy temporary file FileResult{tempFilename=/root/apache-beam-quickstart/outputs/.temp-beam-2019-01-30_18-42-43-1/73d6646c-d27f-4a1a-a354-0ea342fa3376, shard=3, window=org.apache.beam.sdk.transforms.windowing.GlobalWindow@9ef8eb7, paneInfo=PaneInfo{isFirst=true, isLast=true, timing=ON_TIME, index=0, onTimeIndex=0}} to final location /root/apache-beam-quickstart/outputs/part-00003-of-00004\n",
            "Jan 30, 2019 6:43:04 PM org.apache.beam.sdk.io.FileBasedSink$WriteOperation moveToOutputFiles\n",
            "INFO: Will copy temporary file FileResult{tempFilename=/root/apache-beam-quickstart/outputs/.temp-beam-2019-01-30_18-42-43-1/be166b79-848f-42c9-a417-b869633e062a, shard=2, window=org.apache.beam.sdk.transforms.windowing.GlobalWindow@9ef8eb7, paneInfo=PaneInfo{isFirst=true, isLast=true, timing=ON_TIME, index=0, onTimeIndex=0}} to final location /root/apache-beam-quickstart/outputs/part-00002-of-00004\n",
            "Jan 30, 2019 6:43:04 PM org.apache.beam.sdk.io.FileBasedSink$WriteOperation moveToOutputFiles\n",
            "INFO: Will copy temporary file FileResult{tempFilename=/root/apache-beam-quickstart/outputs/.temp-beam-2019-01-30_18-42-43-1/26dffb25-3352-4968-b589-b07562a18829, shard=0, window=org.apache.beam.sdk.transforms.windowing.GlobalWindow@9ef8eb7, paneInfo=PaneInfo{isFirst=true, isLast=true, timing=ON_TIME, index=0, onTimeIndex=0}} to final location /root/apache-beam-quickstart/outputs/part-00000-of-00004\n",
            "Jan 30, 2019 6:43:04 PM org.apache.beam.sdk.io.FileBasedSink$WriteOperation moveToOutputFiles\n",
            "INFO: Will copy temporary file FileResult{tempFilename=/root/apache-beam-quickstart/outputs/.temp-beam-2019-01-30_18-42-43-1/81f86faa-205d-49ed-b7dd-3109c12e7eb1, shard=1, window=org.apache.beam.sdk.transforms.windowing.GlobalWindow@9ef8eb7, paneInfo=PaneInfo{isFirst=true, isLast=true, timing=ON_TIME, index=0, onTimeIndex=0}} to final location /root/apache-beam-quickstart/outputs/part-00001-of-00004\n",
            "Jan 30, 2019 6:43:04 PM org.apache.beam.sdk.io.FileBasedSink$WriteOperation removeTemporaryFiles\n",
            "INFO: Will remove known temporary file /root/apache-beam-quickstart/outputs/.temp-beam-2019-01-30_18-42-43-1/be166b79-848f-42c9-a417-b869633e062a\n",
            "Jan 30, 2019 6:43:04 PM org.apache.beam.sdk.io.FileBasedSink$WriteOperation removeTemporaryFiles\n",
            "INFO: Will remove known temporary file /root/apache-beam-quickstart/outputs/.temp-beam-2019-01-30_18-42-43-1/81f86faa-205d-49ed-b7dd-3109c12e7eb1\n",
            "Jan 30, 2019 6:43:04 PM org.apache.beam.sdk.io.FileBasedSink$WriteOperation removeTemporaryFiles\n",
            "INFO: Will remove known temporary file /root/apache-beam-quickstart/outputs/.temp-beam-2019-01-30_18-42-43-1/26dffb25-3352-4968-b589-b07562a18829\n",
            "Jan 30, 2019 6:43:04 PM org.apache.beam.sdk.io.FileBasedSink$WriteOperation removeTemporaryFiles\n",
            "INFO: Will remove known temporary file /root/apache-beam-quickstart/outputs/.temp-beam-2019-01-30_18-42-43-1/73d6646c-d27f-4a1a-a354-0ea342fa3376\n",
            "Jan 30, 2019 6:43:04 PM org.apache.beam.sdk.io.FileBasedSink$WriteOperation removeTemporaryFiles\n",
            "WARNING: Failed to match temporary files under: [/root/apache-beam-quickstart/outputs/.temp-beam-2019-01-30_18-42-43-1/].\n",
            "\n",
            "BUILD SUCCESSFUL in 35s\n",
            "5 actionable tasks: 5 executed\n",
            "\u001b[m\n",
            ">> head -n 20 outputs/part-00000-of-*\n",
            "==> outputs/part-00000-of-00003 <==\n",
            "mum: 1\n",
            "Beware: 1\n",
            "beaks: 1\n",
            "Ten: 1\n",
            "fairs: 1\n",
            "desperate: 2\n",
            "handy: 1\n",
            "whispered: 1\n",
            "guess: 1\n",
            "humbled: 1\n",
            "beware: 1\n",
            "Am: 2\n",
            "gazing: 1\n",
            "As: 28\n",
            "At: 5\n",
            "naughty: 1\n",
            "dealing: 1\n",
            "Thy: 20\n",
            "Putting: 1\n",
            "descent: 1\n",
            "\n",
            "==> outputs/part-00000-of-00004 <==\n",
            "shelter: 1\n",
            "remember: 6\n",
            "womb: 1\n",
            "But: 50\n",
            "though: 15\n",
            "star: 3\n",
            "stay: 7\n",
            "seeks: 1\n",
            "conjuring: 1\n",
            "wrinkles: 1\n",
            "deniest: 1\n",
            "loop: 1\n",
            "bare: 5\n",
            "wool: 1\n",
            "look: 16\n",
            "bears: 3\n",
            "childed: 1\n",
            "beast: 3\n",
            "bitter: 4\n",
            "stocks: 11\n",
            "\n"
          ],
          "name": "stdout"
        }
      ]
    }
  ]
}